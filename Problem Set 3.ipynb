{
 "cells": [
  {
   "cell_type": "markdown",
   "metadata": {
    "collapsed": false
   },
   "source": [
    "# Question 1"
   ]
  },
  {
   "cell_type": "markdown",
   "metadata": {
    "collapsed": false
   },
   "source": [
    "Import the necessary libraries"
   ]
  },
  {
   "cell_type": "code",
   "execution_count": 1,
   "metadata": {
    "collapsed": false
   },
   "outputs": [],
   "source": [
    "import pandas as pd\n",
    "url = 'https://raw.githubusercontent.com/justmarkham/DAT8/master/data/u.user'"
   ]
  },
  {
   "cell_type": "markdown",
   "metadata": {
    "collapsed": false
   },
   "source": [
    "Import the dataset & Assign it to a variable called users"
   ]
  },
  {
   "cell_type": "code",
   "execution_count": 2,
   "metadata": {
    "collapsed": false
   },
   "outputs": [
    {
     "data": {
      "text/plain": "         age gender     occupation zip_code\nuser_id                                    \n1         24      M     technician    85711\n2         53      F          other    94043\n3         23      M         writer    32067\n4         24      M     technician    43537\n5         33      F          other    15213\n...      ...    ...            ...      ...\n939       26      F        student    33319\n940       32      M  administrator    02215\n941       20      M        student    97229\n942       48      F      librarian    78209\n943       22      M        student    77841\n\n[943 rows x 4 columns]",
      "text/html": "<div>\n<style scoped>\n    .dataframe tbody tr th:only-of-type {\n        vertical-align: middle;\n    }\n\n    .dataframe tbody tr th {\n        vertical-align: top;\n    }\n\n    .dataframe thead th {\n        text-align: right;\n    }\n</style>\n<table border=\"1\" class=\"dataframe\">\n  <thead>\n    <tr style=\"text-align: right;\">\n      <th></th>\n      <th>age</th>\n      <th>gender</th>\n      <th>occupation</th>\n      <th>zip_code</th>\n    </tr>\n    <tr>\n      <th>user_id</th>\n      <th></th>\n      <th></th>\n      <th></th>\n      <th></th>\n    </tr>\n  </thead>\n  <tbody>\n    <tr>\n      <th>1</th>\n      <td>24</td>\n      <td>M</td>\n      <td>technician</td>\n      <td>85711</td>\n    </tr>\n    <tr>\n      <th>2</th>\n      <td>53</td>\n      <td>F</td>\n      <td>other</td>\n      <td>94043</td>\n    </tr>\n    <tr>\n      <th>3</th>\n      <td>23</td>\n      <td>M</td>\n      <td>writer</td>\n      <td>32067</td>\n    </tr>\n    <tr>\n      <th>4</th>\n      <td>24</td>\n      <td>M</td>\n      <td>technician</td>\n      <td>43537</td>\n    </tr>\n    <tr>\n      <th>5</th>\n      <td>33</td>\n      <td>F</td>\n      <td>other</td>\n      <td>15213</td>\n    </tr>\n    <tr>\n      <th>...</th>\n      <td>...</td>\n      <td>...</td>\n      <td>...</td>\n      <td>...</td>\n    </tr>\n    <tr>\n      <th>939</th>\n      <td>26</td>\n      <td>F</td>\n      <td>student</td>\n      <td>33319</td>\n    </tr>\n    <tr>\n      <th>940</th>\n      <td>32</td>\n      <td>M</td>\n      <td>administrator</td>\n      <td>02215</td>\n    </tr>\n    <tr>\n      <th>941</th>\n      <td>20</td>\n      <td>M</td>\n      <td>student</td>\n      <td>97229</td>\n    </tr>\n    <tr>\n      <th>942</th>\n      <td>48</td>\n      <td>F</td>\n      <td>librarian</td>\n      <td>78209</td>\n    </tr>\n    <tr>\n      <th>943</th>\n      <td>22</td>\n      <td>M</td>\n      <td>student</td>\n      <td>77841</td>\n    </tr>\n  </tbody>\n</table>\n<p>943 rows × 4 columns</p>\n</div>"
     },
     "execution_count": 2,
     "metadata": {},
     "output_type": "execute_result"
    }
   ],
   "source": [
    "users = pd.read_csv(url, sep='|', index_col='user_id')\n",
    "users"
   ]
  },
  {
   "cell_type": "markdown",
   "metadata": {
    "collapsed": false
   },
   "source": [
    "Discover what is the mean age per occupation"
   ]
  },
  {
   "cell_type": "code",
   "execution_count": 3,
   "metadata": {
    "collapsed": false
   },
   "outputs": [
    {
     "data": {
      "text/plain": "occupation\nadministrator    38.746835\nartist           31.392857\ndoctor           43.571429\neducator         42.010526\nengineer         36.388060\nentertainment    29.222222\nexecutive        38.718750\nhealthcare       41.562500\nhomemaker        32.571429\nlawyer           36.750000\nlibrarian        40.000000\nmarketing        37.615385\nnone             26.555556\nother            34.523810\nprogrammer       33.121212\nretired          63.071429\nsalesman         35.666667\nscientist        35.548387\nstudent          22.081633\ntechnician       33.148148\nwriter           36.311111\nName: age, dtype: float64"
     },
     "execution_count": 3,
     "metadata": {},
     "output_type": "execute_result"
    }
   ],
   "source": [
    "#  Discover what is the mean age per occupation\n",
    "users.groupby('occupation').age.mean()"
   ]
  },
  {
   "cell_type": "markdown",
   "metadata": {
    "collapsed": false
   },
   "source": [
    "Discover the Male ratio per occupation and sort it from the most to the least"
   ]
  },
  {
   "cell_type": "code",
   "execution_count": 4,
   "metadata": {
    "collapsed": false
   },
   "outputs": [
    {
     "data": {
      "text/plain": "occupation\ndoctor           1.000000\nengineer         0.970149\ntechnician       0.962963\nretired          0.928571\nprogrammer       0.909091\nexecutive        0.906250\nscientist        0.903226\nentertainment    0.888889\nlawyer           0.833333\nsalesman         0.750000\neducator         0.726316\nstudent          0.693878\nother            0.657143\nmarketing        0.615385\nwriter           0.577778\nnone             0.555556\nadministrator    0.544304\nartist           0.535714\nlibrarian        0.431373\nhealthcare       0.312500\nhomemaker        0.142857\ndtype: float64"
     },
     "execution_count": 4,
     "metadata": {},
     "output_type": "execute_result"
    }
   ],
   "source": [
    "male_female_count_by_occupation = users.groupby([\"occupation\", \"gender\"])[[\"gender\"]].count().rename(columns={'gender':'Gender Count'}).reset_index().pivot(index=\"occupation\", columns=\"gender\", values=\"Gender Count\").fillna(0)\n",
    "(male_female_count_by_occupation[\"M\"]/ (male_female_count_by_occupation[\"F\"] + male_female_count_by_occupation[\"M\"])).sort_values(ascending=False)"
   ]
  },
  {
   "cell_type": "markdown",
   "metadata": {
    "collapsed": false
   },
   "source": [
    "For each occupation, calculate the minimum and maximum ages"
   ]
  },
  {
   "cell_type": "code",
   "execution_count": 5,
   "metadata": {
    "collapsed": false
   },
   "outputs": [
    {
     "data": {
      "text/plain": "               Minimum Age  Maximum Age\noccupation                             \nadministrator           21           70\nartist                  19           48\ndoctor                  28           64\neducator                23           63\nengineer                22           70\nentertainment           15           50\nexecutive               22           69\nhealthcare              22           62\nhomemaker               20           50\nlawyer                  21           53\nlibrarian               23           69\nmarketing               24           55\nnone                    11           55\nother                   13           64\nprogrammer              20           63\nretired                 51           73\nsalesman                18           66\nscientist               23           55\nstudent                  7           42\ntechnician              21           55\nwriter                  18           60",
      "text/html": "<div>\n<style scoped>\n    .dataframe tbody tr th:only-of-type {\n        vertical-align: middle;\n    }\n\n    .dataframe tbody tr th {\n        vertical-align: top;\n    }\n\n    .dataframe thead th {\n        text-align: right;\n    }\n</style>\n<table border=\"1\" class=\"dataframe\">\n  <thead>\n    <tr style=\"text-align: right;\">\n      <th></th>\n      <th>Minimum Age</th>\n      <th>Maximum Age</th>\n    </tr>\n    <tr>\n      <th>occupation</th>\n      <th></th>\n      <th></th>\n    </tr>\n  </thead>\n  <tbody>\n    <tr>\n      <th>administrator</th>\n      <td>21</td>\n      <td>70</td>\n    </tr>\n    <tr>\n      <th>artist</th>\n      <td>19</td>\n      <td>48</td>\n    </tr>\n    <tr>\n      <th>doctor</th>\n      <td>28</td>\n      <td>64</td>\n    </tr>\n    <tr>\n      <th>educator</th>\n      <td>23</td>\n      <td>63</td>\n    </tr>\n    <tr>\n      <th>engineer</th>\n      <td>22</td>\n      <td>70</td>\n    </tr>\n    <tr>\n      <th>entertainment</th>\n      <td>15</td>\n      <td>50</td>\n    </tr>\n    <tr>\n      <th>executive</th>\n      <td>22</td>\n      <td>69</td>\n    </tr>\n    <tr>\n      <th>healthcare</th>\n      <td>22</td>\n      <td>62</td>\n    </tr>\n    <tr>\n      <th>homemaker</th>\n      <td>20</td>\n      <td>50</td>\n    </tr>\n    <tr>\n      <th>lawyer</th>\n      <td>21</td>\n      <td>53</td>\n    </tr>\n    <tr>\n      <th>librarian</th>\n      <td>23</td>\n      <td>69</td>\n    </tr>\n    <tr>\n      <th>marketing</th>\n      <td>24</td>\n      <td>55</td>\n    </tr>\n    <tr>\n      <th>none</th>\n      <td>11</td>\n      <td>55</td>\n    </tr>\n    <tr>\n      <th>other</th>\n      <td>13</td>\n      <td>64</td>\n    </tr>\n    <tr>\n      <th>programmer</th>\n      <td>20</td>\n      <td>63</td>\n    </tr>\n    <tr>\n      <th>retired</th>\n      <td>51</td>\n      <td>73</td>\n    </tr>\n    <tr>\n      <th>salesman</th>\n      <td>18</td>\n      <td>66</td>\n    </tr>\n    <tr>\n      <th>scientist</th>\n      <td>23</td>\n      <td>55</td>\n    </tr>\n    <tr>\n      <th>student</th>\n      <td>7</td>\n      <td>42</td>\n    </tr>\n    <tr>\n      <th>technician</th>\n      <td>21</td>\n      <td>55</td>\n    </tr>\n    <tr>\n      <th>writer</th>\n      <td>18</td>\n      <td>60</td>\n    </tr>\n  </tbody>\n</table>\n</div>"
     },
     "execution_count": 5,
     "metadata": {},
     "output_type": "execute_result"
    }
   ],
   "source": [
    "pd.concat([users.groupby(\"occupation\")[[\"age\"]].min().rename(columns={'age':'Minimum Age'}),users.groupby(\"occupation\")[[\"age\"]].max().rename(columns={'age':'Maximum Age'})],axis=1)"
   ]
  },
  {
   "cell_type": "code",
   "execution_count": 5,
   "metadata": {
    "collapsed": false
   },
   "outputs": [],
   "source": []
  },
  {
   "cell_type": "markdown",
   "metadata": {
    "collapsed": false
   },
   "source": [
    "For each combination of occupation and sex, calculate the mean age"
   ]
  },
  {
   "cell_type": "code",
   "execution_count": 6,
   "metadata": {
    "collapsed": false
   },
   "outputs": [
    {
     "data": {
      "text/plain": "gender                 F          M\noccupation                         \nadministrator  40.638889  37.162791\nartist         30.307692  32.333333\ndoctor               NaN  43.571429\neducator       39.115385  43.101449\nengineer       29.500000  36.600000\nentertainment  31.000000  29.000000\nexecutive      44.000000  38.172414\nhealthcare     39.818182  45.400000\nhomemaker      34.166667  23.000000\nlawyer         39.500000  36.200000\nlibrarian      40.000000  40.000000\nmarketing      37.200000  37.875000\nnone           36.500000  18.600000\nother          35.472222  34.028986\nprogrammer     32.166667  33.216667\nretired        70.000000  62.538462\nsalesman       27.000000  38.555556\nscientist      28.333333  36.321429\nstudent        20.750000  22.669118\ntechnician     38.000000  32.961538\nwriter         37.631579  35.346154",
      "text/html": "<div>\n<style scoped>\n    .dataframe tbody tr th:only-of-type {\n        vertical-align: middle;\n    }\n\n    .dataframe tbody tr th {\n        vertical-align: top;\n    }\n\n    .dataframe thead th {\n        text-align: right;\n    }\n</style>\n<table border=\"1\" class=\"dataframe\">\n  <thead>\n    <tr style=\"text-align: right;\">\n      <th>gender</th>\n      <th>F</th>\n      <th>M</th>\n    </tr>\n    <tr>\n      <th>occupation</th>\n      <th></th>\n      <th></th>\n    </tr>\n  </thead>\n  <tbody>\n    <tr>\n      <th>administrator</th>\n      <td>40.638889</td>\n      <td>37.162791</td>\n    </tr>\n    <tr>\n      <th>artist</th>\n      <td>30.307692</td>\n      <td>32.333333</td>\n    </tr>\n    <tr>\n      <th>doctor</th>\n      <td>NaN</td>\n      <td>43.571429</td>\n    </tr>\n    <tr>\n      <th>educator</th>\n      <td>39.115385</td>\n      <td>43.101449</td>\n    </tr>\n    <tr>\n      <th>engineer</th>\n      <td>29.500000</td>\n      <td>36.600000</td>\n    </tr>\n    <tr>\n      <th>entertainment</th>\n      <td>31.000000</td>\n      <td>29.000000</td>\n    </tr>\n    <tr>\n      <th>executive</th>\n      <td>44.000000</td>\n      <td>38.172414</td>\n    </tr>\n    <tr>\n      <th>healthcare</th>\n      <td>39.818182</td>\n      <td>45.400000</td>\n    </tr>\n    <tr>\n      <th>homemaker</th>\n      <td>34.166667</td>\n      <td>23.000000</td>\n    </tr>\n    <tr>\n      <th>lawyer</th>\n      <td>39.500000</td>\n      <td>36.200000</td>\n    </tr>\n    <tr>\n      <th>librarian</th>\n      <td>40.000000</td>\n      <td>40.000000</td>\n    </tr>\n    <tr>\n      <th>marketing</th>\n      <td>37.200000</td>\n      <td>37.875000</td>\n    </tr>\n    <tr>\n      <th>none</th>\n      <td>36.500000</td>\n      <td>18.600000</td>\n    </tr>\n    <tr>\n      <th>other</th>\n      <td>35.472222</td>\n      <td>34.028986</td>\n    </tr>\n    <tr>\n      <th>programmer</th>\n      <td>32.166667</td>\n      <td>33.216667</td>\n    </tr>\n    <tr>\n      <th>retired</th>\n      <td>70.000000</td>\n      <td>62.538462</td>\n    </tr>\n    <tr>\n      <th>salesman</th>\n      <td>27.000000</td>\n      <td>38.555556</td>\n    </tr>\n    <tr>\n      <th>scientist</th>\n      <td>28.333333</td>\n      <td>36.321429</td>\n    </tr>\n    <tr>\n      <th>student</th>\n      <td>20.750000</td>\n      <td>22.669118</td>\n    </tr>\n    <tr>\n      <th>technician</th>\n      <td>38.000000</td>\n      <td>32.961538</td>\n    </tr>\n    <tr>\n      <th>writer</th>\n      <td>37.631579</td>\n      <td>35.346154</td>\n    </tr>\n  </tbody>\n</table>\n</div>"
     },
     "execution_count": 6,
     "metadata": {},
     "output_type": "execute_result"
    }
   ],
   "source": [
    "users.groupby([\"occupation\",\"gender\"])[[\"age\"]].mean().rename(columns={'age':'Mean Age'}).reset_index().pivot(index=\"occupation\",columns=\"gender\",values=\"Mean Age\")\n"
   ]
  },
  {
   "cell_type": "markdown",
   "metadata": {
    "collapsed": false
   },
   "source": [
    "For each occupation present the percentage of women and men"
   ]
  },
  {
   "cell_type": "code",
   "execution_count": 7,
   "metadata": {
    "collapsed": false
   },
   "outputs": [
    {
     "data": {
      "text/plain": "                     Male     Female\noccupation                          \nadministrator   54.430380  45.569620\nartist          53.571429  46.428571\ndoctor         100.000000   0.000000\neducator        72.631579  27.368421\nengineer        97.014925   2.985075\nentertainment   88.888889  11.111111\nexecutive       90.625000   9.375000\nhealthcare      31.250000  68.750000\nhomemaker       14.285714  85.714286\nlawyer          83.333333  16.666667\nlibrarian       43.137255  56.862745\nmarketing       61.538462  38.461538\nnone            55.555556  44.444444\nother           65.714286  34.285714\nprogrammer      90.909091   9.090909\nretired         92.857143   7.142857\nsalesman        75.000000  25.000000\nscientist       90.322581   9.677419\nstudent         69.387755  30.612245\ntechnician      96.296296   3.703704\nwriter          57.777778  42.222222",
      "text/html": "<div>\n<style scoped>\n    .dataframe tbody tr th:only-of-type {\n        vertical-align: middle;\n    }\n\n    .dataframe tbody tr th {\n        vertical-align: top;\n    }\n\n    .dataframe thead th {\n        text-align: right;\n    }\n</style>\n<table border=\"1\" class=\"dataframe\">\n  <thead>\n    <tr style=\"text-align: right;\">\n      <th></th>\n      <th>Male</th>\n      <th>Female</th>\n    </tr>\n    <tr>\n      <th>occupation</th>\n      <th></th>\n      <th></th>\n    </tr>\n  </thead>\n  <tbody>\n    <tr>\n      <th>administrator</th>\n      <td>54.430380</td>\n      <td>45.569620</td>\n    </tr>\n    <tr>\n      <th>artist</th>\n      <td>53.571429</td>\n      <td>46.428571</td>\n    </tr>\n    <tr>\n      <th>doctor</th>\n      <td>100.000000</td>\n      <td>0.000000</td>\n    </tr>\n    <tr>\n      <th>educator</th>\n      <td>72.631579</td>\n      <td>27.368421</td>\n    </tr>\n    <tr>\n      <th>engineer</th>\n      <td>97.014925</td>\n      <td>2.985075</td>\n    </tr>\n    <tr>\n      <th>entertainment</th>\n      <td>88.888889</td>\n      <td>11.111111</td>\n    </tr>\n    <tr>\n      <th>executive</th>\n      <td>90.625000</td>\n      <td>9.375000</td>\n    </tr>\n    <tr>\n      <th>healthcare</th>\n      <td>31.250000</td>\n      <td>68.750000</td>\n    </tr>\n    <tr>\n      <th>homemaker</th>\n      <td>14.285714</td>\n      <td>85.714286</td>\n    </tr>\n    <tr>\n      <th>lawyer</th>\n      <td>83.333333</td>\n      <td>16.666667</td>\n    </tr>\n    <tr>\n      <th>librarian</th>\n      <td>43.137255</td>\n      <td>56.862745</td>\n    </tr>\n    <tr>\n      <th>marketing</th>\n      <td>61.538462</td>\n      <td>38.461538</td>\n    </tr>\n    <tr>\n      <th>none</th>\n      <td>55.555556</td>\n      <td>44.444444</td>\n    </tr>\n    <tr>\n      <th>other</th>\n      <td>65.714286</td>\n      <td>34.285714</td>\n    </tr>\n    <tr>\n      <th>programmer</th>\n      <td>90.909091</td>\n      <td>9.090909</td>\n    </tr>\n    <tr>\n      <th>retired</th>\n      <td>92.857143</td>\n      <td>7.142857</td>\n    </tr>\n    <tr>\n      <th>salesman</th>\n      <td>75.000000</td>\n      <td>25.000000</td>\n    </tr>\n    <tr>\n      <th>scientist</th>\n      <td>90.322581</td>\n      <td>9.677419</td>\n    </tr>\n    <tr>\n      <th>student</th>\n      <td>69.387755</td>\n      <td>30.612245</td>\n    </tr>\n    <tr>\n      <th>technician</th>\n      <td>96.296296</td>\n      <td>3.703704</td>\n    </tr>\n    <tr>\n      <th>writer</th>\n      <td>57.777778</td>\n      <td>42.222222</td>\n    </tr>\n  </tbody>\n</table>\n</div>"
     },
     "execution_count": 7,
     "metadata": {},
     "output_type": "execute_result"
    }
   ],
   "source": [
    "male_percentage = (male_female_count_by_occupation[\"M\"] / (male_female_count_by_occupation[\"F\"] + male_female_count_by_occupation[\"M\"])) * 100\n",
    "pd.concat([male_percentage.rename(\"Male\",inplace=True), (100 - male_percentage).rename(\"Female\",inplace=True)], axis=1)"
   ]
  },
  {
   "cell_type": "code",
   "execution_count": 7,
   "metadata": {
    "collapsed": false
   },
   "outputs": [],
   "source": []
  },
  {
   "cell_type": "markdown",
   "metadata": {
    "collapsed": false
   },
   "source": [
    "# Question 2"
   ]
  },
  {
   "cell_type": "markdown",
   "metadata": {
    "collapsed": false
   },
   "source": [
    "Import the necessary libraries"
   ]
  },
  {
   "cell_type": "code",
   "execution_count": 8,
   "metadata": {
    "collapsed": false
   },
   "outputs": [],
   "source": [
    "import pandas as pd\n",
    "url = 'https://raw.githubusercontent.com/guipsamora/pandas_exercises/master/02_Filtering_%26_Sorting/Euro12/Euro_2012_stats_TEAM.csv'"
   ]
  },
  {
   "cell_type": "markdown",
   "metadata": {
    "collapsed": false
   },
   "source": [
    "Import the dataset & Assign it to a variable called euro12"
   ]
  },
  {
   "cell_type": "code",
   "execution_count": 9,
   "metadata": {
    "collapsed": false
   },
   "outputs": [
    {
     "data": {
      "text/plain": "                   Team  Goals  Shots on target  Shots off target  \\\n0               Croatia      4               13                12   \n1        Czech Republic      4               13                18   \n2               Denmark      4               10                10   \n3               England      5               11                18   \n4                France      3               22                24   \n5               Germany     10               32                32   \n6                Greece      5                8                18   \n7                 Italy      6               34                45   \n8           Netherlands      2               12                36   \n9                Poland      2               15                23   \n10             Portugal      6               22                42   \n11  Republic of Ireland      1                7                12   \n12               Russia      5                9                31   \n13                Spain     12               42                33   \n14               Sweden      5               17                19   \n15              Ukraine      2                7                26   \n\n   Shooting Accuracy % Goals-to-shots  Total shots (inc. Blocked)  \\\n0              51.9%            16.0%                          32   \n1              41.9%            12.9%                          39   \n2              50.0%            20.0%                          27   \n3              50.0%            17.2%                          40   \n4              37.9%             6.5%                          65   \n5              47.8%            15.6%                          80   \n6              30.7%            19.2%                          32   \n7              43.0%             7.5%                         110   \n8              25.0%             4.1%                          60   \n9              39.4%             5.2%                          48   \n10             34.3%             9.3%                          82   \n11             36.8%             5.2%                          28   \n12             22.5%            12.5%                          59   \n13             55.9%            16.0%                         100   \n14             47.2%            13.8%                          39   \n15             21.2%             6.0%                          38   \n\n    Hit Woodwork  Penalty goals  Penalties not scored  ...  Saves made  \\\n0              0              0                     0  ...          13   \n1              0              0                     0  ...           9   \n2              1              0                     0  ...          10   \n3              0              0                     0  ...          22   \n4              1              0                     0  ...           6   \n5              2              1                     0  ...          10   \n6              1              1                     1  ...          13   \n7              2              0                     0  ...          20   \n8              2              0                     0  ...          12   \n9              0              0                     0  ...           6   \n10             6              0                     0  ...          10   \n11             0              0                     0  ...          17   \n12             2              0                     0  ...          10   \n13             0              1                     0  ...          15   \n14             3              0                     0  ...           8   \n15             0              0                     0  ...          13   \n\n    Saves-to-shots ratio  Fouls Won Fouls Conceded  Offsides  Yellow Cards  \\\n0                  81.3%         41             62         2             9   \n1                  60.1%         53             73         8             7   \n2                  66.7%         25             38         8             4   \n3                  88.1%         43             45         6             5   \n4                  54.6%         36             51         5             6   \n5                  62.6%         63             49        12             4   \n6                  65.1%         67             48        12             9   \n7                  74.1%        101             89        16            16   \n8                  70.6%         35             30         3             5   \n9                  66.7%         48             56         3             7   \n10                 71.5%         73             90        10            12   \n11                 65.4%         43             51        11             6   \n12                 77.0%         34             43         4             6   \n13                 93.8%        102             83        19            11   \n14                 61.6%         35             51         7             7   \n15                 76.5%         48             31         4             5   \n\n    Red Cards  Subs on  Subs off  Players Used  \n0           0        9         9            16  \n1           0       11        11            19  \n2           0        7         7            15  \n3           0       11        11            16  \n4           0       11        11            19  \n5           0       15        15            17  \n6           1       12        12            20  \n7           0       18        18            19  \n8           0        7         7            15  \n9           1        7         7            17  \n10          0       14        14            16  \n11          1       10        10            17  \n12          0        7         7            16  \n13          0       17        17            18  \n14          0        9         9            18  \n15          0        9         9            18  \n\n[16 rows x 35 columns]",
      "text/html": "<div>\n<style scoped>\n    .dataframe tbody tr th:only-of-type {\n        vertical-align: middle;\n    }\n\n    .dataframe tbody tr th {\n        vertical-align: top;\n    }\n\n    .dataframe thead th {\n        text-align: right;\n    }\n</style>\n<table border=\"1\" class=\"dataframe\">\n  <thead>\n    <tr style=\"text-align: right;\">\n      <th></th>\n      <th>Team</th>\n      <th>Goals</th>\n      <th>Shots on target</th>\n      <th>Shots off target</th>\n      <th>Shooting Accuracy</th>\n      <th>% Goals-to-shots</th>\n      <th>Total shots (inc. Blocked)</th>\n      <th>Hit Woodwork</th>\n      <th>Penalty goals</th>\n      <th>Penalties not scored</th>\n      <th>...</th>\n      <th>Saves made</th>\n      <th>Saves-to-shots ratio</th>\n      <th>Fouls Won</th>\n      <th>Fouls Conceded</th>\n      <th>Offsides</th>\n      <th>Yellow Cards</th>\n      <th>Red Cards</th>\n      <th>Subs on</th>\n      <th>Subs off</th>\n      <th>Players Used</th>\n    </tr>\n  </thead>\n  <tbody>\n    <tr>\n      <th>0</th>\n      <td>Croatia</td>\n      <td>4</td>\n      <td>13</td>\n      <td>12</td>\n      <td>51.9%</td>\n      <td>16.0%</td>\n      <td>32</td>\n      <td>0</td>\n      <td>0</td>\n      <td>0</td>\n      <td>...</td>\n      <td>13</td>\n      <td>81.3%</td>\n      <td>41</td>\n      <td>62</td>\n      <td>2</td>\n      <td>9</td>\n      <td>0</td>\n      <td>9</td>\n      <td>9</td>\n      <td>16</td>\n    </tr>\n    <tr>\n      <th>1</th>\n      <td>Czech Republic</td>\n      <td>4</td>\n      <td>13</td>\n      <td>18</td>\n      <td>41.9%</td>\n      <td>12.9%</td>\n      <td>39</td>\n      <td>0</td>\n      <td>0</td>\n      <td>0</td>\n      <td>...</td>\n      <td>9</td>\n      <td>60.1%</td>\n      <td>53</td>\n      <td>73</td>\n      <td>8</td>\n      <td>7</td>\n      <td>0</td>\n      <td>11</td>\n      <td>11</td>\n      <td>19</td>\n    </tr>\n    <tr>\n      <th>2</th>\n      <td>Denmark</td>\n      <td>4</td>\n      <td>10</td>\n      <td>10</td>\n      <td>50.0%</td>\n      <td>20.0%</td>\n      <td>27</td>\n      <td>1</td>\n      <td>0</td>\n      <td>0</td>\n      <td>...</td>\n      <td>10</td>\n      <td>66.7%</td>\n      <td>25</td>\n      <td>38</td>\n      <td>8</td>\n      <td>4</td>\n      <td>0</td>\n      <td>7</td>\n      <td>7</td>\n      <td>15</td>\n    </tr>\n    <tr>\n      <th>3</th>\n      <td>England</td>\n      <td>5</td>\n      <td>11</td>\n      <td>18</td>\n      <td>50.0%</td>\n      <td>17.2%</td>\n      <td>40</td>\n      <td>0</td>\n      <td>0</td>\n      <td>0</td>\n      <td>...</td>\n      <td>22</td>\n      <td>88.1%</td>\n      <td>43</td>\n      <td>45</td>\n      <td>6</td>\n      <td>5</td>\n      <td>0</td>\n      <td>11</td>\n      <td>11</td>\n      <td>16</td>\n    </tr>\n    <tr>\n      <th>4</th>\n      <td>France</td>\n      <td>3</td>\n      <td>22</td>\n      <td>24</td>\n      <td>37.9%</td>\n      <td>6.5%</td>\n      <td>65</td>\n      <td>1</td>\n      <td>0</td>\n      <td>0</td>\n      <td>...</td>\n      <td>6</td>\n      <td>54.6%</td>\n      <td>36</td>\n      <td>51</td>\n      <td>5</td>\n      <td>6</td>\n      <td>0</td>\n      <td>11</td>\n      <td>11</td>\n      <td>19</td>\n    </tr>\n    <tr>\n      <th>5</th>\n      <td>Germany</td>\n      <td>10</td>\n      <td>32</td>\n      <td>32</td>\n      <td>47.8%</td>\n      <td>15.6%</td>\n      <td>80</td>\n      <td>2</td>\n      <td>1</td>\n      <td>0</td>\n      <td>...</td>\n      <td>10</td>\n      <td>62.6%</td>\n      <td>63</td>\n      <td>49</td>\n      <td>12</td>\n      <td>4</td>\n      <td>0</td>\n      <td>15</td>\n      <td>15</td>\n      <td>17</td>\n    </tr>\n    <tr>\n      <th>6</th>\n      <td>Greece</td>\n      <td>5</td>\n      <td>8</td>\n      <td>18</td>\n      <td>30.7%</td>\n      <td>19.2%</td>\n      <td>32</td>\n      <td>1</td>\n      <td>1</td>\n      <td>1</td>\n      <td>...</td>\n      <td>13</td>\n      <td>65.1%</td>\n      <td>67</td>\n      <td>48</td>\n      <td>12</td>\n      <td>9</td>\n      <td>1</td>\n      <td>12</td>\n      <td>12</td>\n      <td>20</td>\n    </tr>\n    <tr>\n      <th>7</th>\n      <td>Italy</td>\n      <td>6</td>\n      <td>34</td>\n      <td>45</td>\n      <td>43.0%</td>\n      <td>7.5%</td>\n      <td>110</td>\n      <td>2</td>\n      <td>0</td>\n      <td>0</td>\n      <td>...</td>\n      <td>20</td>\n      <td>74.1%</td>\n      <td>101</td>\n      <td>89</td>\n      <td>16</td>\n      <td>16</td>\n      <td>0</td>\n      <td>18</td>\n      <td>18</td>\n      <td>19</td>\n    </tr>\n    <tr>\n      <th>8</th>\n      <td>Netherlands</td>\n      <td>2</td>\n      <td>12</td>\n      <td>36</td>\n      <td>25.0%</td>\n      <td>4.1%</td>\n      <td>60</td>\n      <td>2</td>\n      <td>0</td>\n      <td>0</td>\n      <td>...</td>\n      <td>12</td>\n      <td>70.6%</td>\n      <td>35</td>\n      <td>30</td>\n      <td>3</td>\n      <td>5</td>\n      <td>0</td>\n      <td>7</td>\n      <td>7</td>\n      <td>15</td>\n    </tr>\n    <tr>\n      <th>9</th>\n      <td>Poland</td>\n      <td>2</td>\n      <td>15</td>\n      <td>23</td>\n      <td>39.4%</td>\n      <td>5.2%</td>\n      <td>48</td>\n      <td>0</td>\n      <td>0</td>\n      <td>0</td>\n      <td>...</td>\n      <td>6</td>\n      <td>66.7%</td>\n      <td>48</td>\n      <td>56</td>\n      <td>3</td>\n      <td>7</td>\n      <td>1</td>\n      <td>7</td>\n      <td>7</td>\n      <td>17</td>\n    </tr>\n    <tr>\n      <th>10</th>\n      <td>Portugal</td>\n      <td>6</td>\n      <td>22</td>\n      <td>42</td>\n      <td>34.3%</td>\n      <td>9.3%</td>\n      <td>82</td>\n      <td>6</td>\n      <td>0</td>\n      <td>0</td>\n      <td>...</td>\n      <td>10</td>\n      <td>71.5%</td>\n      <td>73</td>\n      <td>90</td>\n      <td>10</td>\n      <td>12</td>\n      <td>0</td>\n      <td>14</td>\n      <td>14</td>\n      <td>16</td>\n    </tr>\n    <tr>\n      <th>11</th>\n      <td>Republic of Ireland</td>\n      <td>1</td>\n      <td>7</td>\n      <td>12</td>\n      <td>36.8%</td>\n      <td>5.2%</td>\n      <td>28</td>\n      <td>0</td>\n      <td>0</td>\n      <td>0</td>\n      <td>...</td>\n      <td>17</td>\n      <td>65.4%</td>\n      <td>43</td>\n      <td>51</td>\n      <td>11</td>\n      <td>6</td>\n      <td>1</td>\n      <td>10</td>\n      <td>10</td>\n      <td>17</td>\n    </tr>\n    <tr>\n      <th>12</th>\n      <td>Russia</td>\n      <td>5</td>\n      <td>9</td>\n      <td>31</td>\n      <td>22.5%</td>\n      <td>12.5%</td>\n      <td>59</td>\n      <td>2</td>\n      <td>0</td>\n      <td>0</td>\n      <td>...</td>\n      <td>10</td>\n      <td>77.0%</td>\n      <td>34</td>\n      <td>43</td>\n      <td>4</td>\n      <td>6</td>\n      <td>0</td>\n      <td>7</td>\n      <td>7</td>\n      <td>16</td>\n    </tr>\n    <tr>\n      <th>13</th>\n      <td>Spain</td>\n      <td>12</td>\n      <td>42</td>\n      <td>33</td>\n      <td>55.9%</td>\n      <td>16.0%</td>\n      <td>100</td>\n      <td>0</td>\n      <td>1</td>\n      <td>0</td>\n      <td>...</td>\n      <td>15</td>\n      <td>93.8%</td>\n      <td>102</td>\n      <td>83</td>\n      <td>19</td>\n      <td>11</td>\n      <td>0</td>\n      <td>17</td>\n      <td>17</td>\n      <td>18</td>\n    </tr>\n    <tr>\n      <th>14</th>\n      <td>Sweden</td>\n      <td>5</td>\n      <td>17</td>\n      <td>19</td>\n      <td>47.2%</td>\n      <td>13.8%</td>\n      <td>39</td>\n      <td>3</td>\n      <td>0</td>\n      <td>0</td>\n      <td>...</td>\n      <td>8</td>\n      <td>61.6%</td>\n      <td>35</td>\n      <td>51</td>\n      <td>7</td>\n      <td>7</td>\n      <td>0</td>\n      <td>9</td>\n      <td>9</td>\n      <td>18</td>\n    </tr>\n    <tr>\n      <th>15</th>\n      <td>Ukraine</td>\n      <td>2</td>\n      <td>7</td>\n      <td>26</td>\n      <td>21.2%</td>\n      <td>6.0%</td>\n      <td>38</td>\n      <td>0</td>\n      <td>0</td>\n      <td>0</td>\n      <td>...</td>\n      <td>13</td>\n      <td>76.5%</td>\n      <td>48</td>\n      <td>31</td>\n      <td>4</td>\n      <td>5</td>\n      <td>0</td>\n      <td>9</td>\n      <td>9</td>\n      <td>18</td>\n    </tr>\n  </tbody>\n</table>\n<p>16 rows × 35 columns</p>\n</div>"
     },
     "execution_count": 9,
     "metadata": {},
     "output_type": "execute_result"
    }
   ],
   "source": [
    "euro12 = pd.read_csv(url, sep=',')\n",
    "euro12"
   ]
  },
  {
   "cell_type": "markdown",
   "metadata": {
    "collapsed": false
   },
   "source": [
    "Select only the Goal column"
   ]
  },
  {
   "cell_type": "code",
   "execution_count": 10,
   "metadata": {
    "collapsed": false
   },
   "outputs": [
    {
     "data": {
      "text/plain": "0      4\n1      4\n2      4\n3      5\n4      3\n5     10\n6      5\n7      6\n8      2\n9      2\n10     6\n11     1\n12     5\n13    12\n14     5\n15     2\nName: Goals, dtype: int64"
     },
     "execution_count": 10,
     "metadata": {},
     "output_type": "execute_result"
    }
   ],
   "source": [
    "euro12.Goals"
   ]
  },
  {
   "cell_type": "markdown",
   "metadata": {
    "collapsed": false
   },
   "source": [
    "How many team participated in the Euro2012"
   ]
  },
  {
   "cell_type": "code",
   "execution_count": 11,
   "metadata": {
    "collapsed": false
   },
   "outputs": [
    {
     "data": {
      "text/plain": "16"
     },
     "execution_count": 11,
     "metadata": {},
     "output_type": "execute_result"
    }
   ],
   "source": [
    "euro12.Team.count()"
   ]
  },
  {
   "cell_type": "markdown",
   "metadata": {
    "collapsed": false
   },
   "source": [
    "What is the number of columns in the dataset"
   ]
  },
  {
   "cell_type": "code",
   "execution_count": 12,
   "metadata": {
    "collapsed": false
   },
   "outputs": [
    {
     "data": {
      "text/plain": "35"
     },
     "execution_count": 12,
     "metadata": {},
     "output_type": "execute_result"
    }
   ],
   "source": [
    "len(euro12.columns)"
   ]
  },
  {
   "cell_type": "markdown",
   "metadata": {
    "collapsed": false
   },
   "source": [
    "View only the columns Team, Yellow Cards and Red Cards and assign them to a dataframe called discipline"
   ]
  },
  {
   "cell_type": "code",
   "execution_count": 13,
   "metadata": {
    "collapsed": false
   },
   "outputs": [
    {
     "data": {
      "text/plain": "                   Team  Yellow Cards  Red Cards\n0               Croatia             9          0\n1        Czech Republic             7          0\n2               Denmark             4          0\n3               England             5          0\n4                France             6          0\n5               Germany             4          0\n6                Greece             9          1\n7                 Italy            16          0\n8           Netherlands             5          0\n9                Poland             7          1\n10             Portugal            12          0\n11  Republic of Ireland             6          1\n12               Russia             6          0\n13                Spain            11          0\n14               Sweden             7          0\n15              Ukraine             5          0",
      "text/html": "<div>\n<style scoped>\n    .dataframe tbody tr th:only-of-type {\n        vertical-align: middle;\n    }\n\n    .dataframe tbody tr th {\n        vertical-align: top;\n    }\n\n    .dataframe thead th {\n        text-align: right;\n    }\n</style>\n<table border=\"1\" class=\"dataframe\">\n  <thead>\n    <tr style=\"text-align: right;\">\n      <th></th>\n      <th>Team</th>\n      <th>Yellow Cards</th>\n      <th>Red Cards</th>\n    </tr>\n  </thead>\n  <tbody>\n    <tr>\n      <th>0</th>\n      <td>Croatia</td>\n      <td>9</td>\n      <td>0</td>\n    </tr>\n    <tr>\n      <th>1</th>\n      <td>Czech Republic</td>\n      <td>7</td>\n      <td>0</td>\n    </tr>\n    <tr>\n      <th>2</th>\n      <td>Denmark</td>\n      <td>4</td>\n      <td>0</td>\n    </tr>\n    <tr>\n      <th>3</th>\n      <td>England</td>\n      <td>5</td>\n      <td>0</td>\n    </tr>\n    <tr>\n      <th>4</th>\n      <td>France</td>\n      <td>6</td>\n      <td>0</td>\n    </tr>\n    <tr>\n      <th>5</th>\n      <td>Germany</td>\n      <td>4</td>\n      <td>0</td>\n    </tr>\n    <tr>\n      <th>6</th>\n      <td>Greece</td>\n      <td>9</td>\n      <td>1</td>\n    </tr>\n    <tr>\n      <th>7</th>\n      <td>Italy</td>\n      <td>16</td>\n      <td>0</td>\n    </tr>\n    <tr>\n      <th>8</th>\n      <td>Netherlands</td>\n      <td>5</td>\n      <td>0</td>\n    </tr>\n    <tr>\n      <th>9</th>\n      <td>Poland</td>\n      <td>7</td>\n      <td>1</td>\n    </tr>\n    <tr>\n      <th>10</th>\n      <td>Portugal</td>\n      <td>12</td>\n      <td>0</td>\n    </tr>\n    <tr>\n      <th>11</th>\n      <td>Republic of Ireland</td>\n      <td>6</td>\n      <td>1</td>\n    </tr>\n    <tr>\n      <th>12</th>\n      <td>Russia</td>\n      <td>6</td>\n      <td>0</td>\n    </tr>\n    <tr>\n      <th>13</th>\n      <td>Spain</td>\n      <td>11</td>\n      <td>0</td>\n    </tr>\n    <tr>\n      <th>14</th>\n      <td>Sweden</td>\n      <td>7</td>\n      <td>0</td>\n    </tr>\n    <tr>\n      <th>15</th>\n      <td>Ukraine</td>\n      <td>5</td>\n      <td>0</td>\n    </tr>\n  </tbody>\n</table>\n</div>"
     },
     "execution_count": 13,
     "metadata": {},
     "output_type": "execute_result"
    }
   ],
   "source": [
    "discipline = euro12[['Team', 'Yellow Cards', 'Red Cards']]\n",
    "discipline"
   ]
  },
  {
   "cell_type": "markdown",
   "metadata": {
    "collapsed": false
   },
   "source": [
    "Sort the teams by Red Cards, then to Yellow Cards"
   ]
  },
  {
   "cell_type": "code",
   "execution_count": 14,
   "metadata": {
    "collapsed": false
   },
   "outputs": [
    {
     "data": {
      "text/plain": "                   Team  Yellow Cards  Red Cards\n2               Denmark             4          0\n5               Germany             4          0\n3               England             5          0\n8           Netherlands             5          0\n15              Ukraine             5          0\n4                France             6          0\n12               Russia             6          0\n1        Czech Republic             7          0\n14               Sweden             7          0\n0               Croatia             9          0\n13                Spain            11          0\n10             Portugal            12          0\n7                 Italy            16          0\n11  Republic of Ireland             6          1\n9                Poland             7          1\n6                Greece             9          1",
      "text/html": "<div>\n<style scoped>\n    .dataframe tbody tr th:only-of-type {\n        vertical-align: middle;\n    }\n\n    .dataframe tbody tr th {\n        vertical-align: top;\n    }\n\n    .dataframe thead th {\n        text-align: right;\n    }\n</style>\n<table border=\"1\" class=\"dataframe\">\n  <thead>\n    <tr style=\"text-align: right;\">\n      <th></th>\n      <th>Team</th>\n      <th>Yellow Cards</th>\n      <th>Red Cards</th>\n    </tr>\n  </thead>\n  <tbody>\n    <tr>\n      <th>2</th>\n      <td>Denmark</td>\n      <td>4</td>\n      <td>0</td>\n    </tr>\n    <tr>\n      <th>5</th>\n      <td>Germany</td>\n      <td>4</td>\n      <td>0</td>\n    </tr>\n    <tr>\n      <th>3</th>\n      <td>England</td>\n      <td>5</td>\n      <td>0</td>\n    </tr>\n    <tr>\n      <th>8</th>\n      <td>Netherlands</td>\n      <td>5</td>\n      <td>0</td>\n    </tr>\n    <tr>\n      <th>15</th>\n      <td>Ukraine</td>\n      <td>5</td>\n      <td>0</td>\n    </tr>\n    <tr>\n      <th>4</th>\n      <td>France</td>\n      <td>6</td>\n      <td>0</td>\n    </tr>\n    <tr>\n      <th>12</th>\n      <td>Russia</td>\n      <td>6</td>\n      <td>0</td>\n    </tr>\n    <tr>\n      <th>1</th>\n      <td>Czech Republic</td>\n      <td>7</td>\n      <td>0</td>\n    </tr>\n    <tr>\n      <th>14</th>\n      <td>Sweden</td>\n      <td>7</td>\n      <td>0</td>\n    </tr>\n    <tr>\n      <th>0</th>\n      <td>Croatia</td>\n      <td>9</td>\n      <td>0</td>\n    </tr>\n    <tr>\n      <th>13</th>\n      <td>Spain</td>\n      <td>11</td>\n      <td>0</td>\n    </tr>\n    <tr>\n      <th>10</th>\n      <td>Portugal</td>\n      <td>12</td>\n      <td>0</td>\n    </tr>\n    <tr>\n      <th>7</th>\n      <td>Italy</td>\n      <td>16</td>\n      <td>0</td>\n    </tr>\n    <tr>\n      <th>11</th>\n      <td>Republic of Ireland</td>\n      <td>6</td>\n      <td>1</td>\n    </tr>\n    <tr>\n      <th>9</th>\n      <td>Poland</td>\n      <td>7</td>\n      <td>1</td>\n    </tr>\n    <tr>\n      <th>6</th>\n      <td>Greece</td>\n      <td>9</td>\n      <td>1</td>\n    </tr>\n  </tbody>\n</table>\n</div>"
     },
     "execution_count": 14,
     "metadata": {},
     "output_type": "execute_result"
    }
   ],
   "source": [
    "discipline.sort_values(['Red Cards', 'Yellow Cards'])"
   ]
  },
  {
   "cell_type": "markdown",
   "metadata": {
    "collapsed": false
   },
   "source": [
    "Calculate the mean Yellow Cards given per Team"
   ]
  },
  {
   "cell_type": "code",
   "execution_count": 15,
   "metadata": {
    "collapsed": false
   },
   "outputs": [
    {
     "data": {
      "text/plain": "7.4375"
     },
     "execution_count": 15,
     "metadata": {},
     "output_type": "execute_result"
    }
   ],
   "source": [
    "discipline['Yellow Cards'].mean()"
   ]
  },
  {
   "cell_type": "markdown",
   "metadata": {
    "collapsed": false
   },
   "source": [
    "Filter teams that scored more than 6 goalsStep"
   ]
  },
  {
   "cell_type": "code",
   "execution_count": 16,
   "metadata": {
    "collapsed": false
   },
   "outputs": [
    {
     "data": {
      "text/plain": "       Team  Goals  Shots on target  Shots off target Shooting Accuracy  \\\n5   Germany     10               32                32             47.8%   \n13    Spain     12               42                33             55.9%   \n\n   % Goals-to-shots  Total shots (inc. Blocked)  Hit Woodwork  Penalty goals  \\\n5             15.6%                          80             2              1   \n13            16.0%                         100             0              1   \n\n    Penalties not scored  ...  Saves made  Saves-to-shots ratio  Fouls Won  \\\n5                      0  ...          10                 62.6%         63   \n13                     0  ...          15                 93.8%        102   \n\n   Fouls Conceded  Offsides  Yellow Cards  Red Cards  Subs on  Subs off  \\\n5              49        12             4          0       15        15   \n13             83        19            11          0       17        17   \n\n    Players Used  \n5             17  \n13            18  \n\n[2 rows x 35 columns]",
      "text/html": "<div>\n<style scoped>\n    .dataframe tbody tr th:only-of-type {\n        vertical-align: middle;\n    }\n\n    .dataframe tbody tr th {\n        vertical-align: top;\n    }\n\n    .dataframe thead th {\n        text-align: right;\n    }\n</style>\n<table border=\"1\" class=\"dataframe\">\n  <thead>\n    <tr style=\"text-align: right;\">\n      <th></th>\n      <th>Team</th>\n      <th>Goals</th>\n      <th>Shots on target</th>\n      <th>Shots off target</th>\n      <th>Shooting Accuracy</th>\n      <th>% Goals-to-shots</th>\n      <th>Total shots (inc. Blocked)</th>\n      <th>Hit Woodwork</th>\n      <th>Penalty goals</th>\n      <th>Penalties not scored</th>\n      <th>...</th>\n      <th>Saves made</th>\n      <th>Saves-to-shots ratio</th>\n      <th>Fouls Won</th>\n      <th>Fouls Conceded</th>\n      <th>Offsides</th>\n      <th>Yellow Cards</th>\n      <th>Red Cards</th>\n      <th>Subs on</th>\n      <th>Subs off</th>\n      <th>Players Used</th>\n    </tr>\n  </thead>\n  <tbody>\n    <tr>\n      <th>5</th>\n      <td>Germany</td>\n      <td>10</td>\n      <td>32</td>\n      <td>32</td>\n      <td>47.8%</td>\n      <td>15.6%</td>\n      <td>80</td>\n      <td>2</td>\n      <td>1</td>\n      <td>0</td>\n      <td>...</td>\n      <td>10</td>\n      <td>62.6%</td>\n      <td>63</td>\n      <td>49</td>\n      <td>12</td>\n      <td>4</td>\n      <td>0</td>\n      <td>15</td>\n      <td>15</td>\n      <td>17</td>\n    </tr>\n    <tr>\n      <th>13</th>\n      <td>Spain</td>\n      <td>12</td>\n      <td>42</td>\n      <td>33</td>\n      <td>55.9%</td>\n      <td>16.0%</td>\n      <td>100</td>\n      <td>0</td>\n      <td>1</td>\n      <td>0</td>\n      <td>...</td>\n      <td>15</td>\n      <td>93.8%</td>\n      <td>102</td>\n      <td>83</td>\n      <td>19</td>\n      <td>11</td>\n      <td>0</td>\n      <td>17</td>\n      <td>17</td>\n      <td>18</td>\n    </tr>\n  </tbody>\n</table>\n<p>2 rows × 35 columns</p>\n</div>"
     },
     "execution_count": 16,
     "metadata": {},
     "output_type": "execute_result"
    }
   ],
   "source": [
    "euro12[euro12.Goals > 6]"
   ]
  },
  {
   "cell_type": "markdown",
   "metadata": {
    "collapsed": false
   },
   "source": [
    "Select the teams that start with G"
   ]
  },
  {
   "cell_type": "code",
   "execution_count": 17,
   "metadata": {
    "collapsed": false
   },
   "outputs": [
    {
     "data": {
      "text/plain": "      Team  Goals  Shots on target  Shots off target Shooting Accuracy  \\\n5  Germany     10               32                32             47.8%   \n6   Greece      5                8                18             30.7%   \n\n  % Goals-to-shots  Total shots (inc. Blocked)  Hit Woodwork  Penalty goals  \\\n5            15.6%                          80             2              1   \n6            19.2%                          32             1              1   \n\n   Penalties not scored  ...  Saves made  Saves-to-shots ratio  Fouls Won  \\\n5                     0  ...          10                 62.6%         63   \n6                     1  ...          13                 65.1%         67   \n\n  Fouls Conceded  Offsides  Yellow Cards  Red Cards  Subs on  Subs off  \\\n5             49        12             4          0       15        15   \n6             48        12             9          1       12        12   \n\n   Players Used  \n5            17  \n6            20  \n\n[2 rows x 35 columns]",
      "text/html": "<div>\n<style scoped>\n    .dataframe tbody tr th:only-of-type {\n        vertical-align: middle;\n    }\n\n    .dataframe tbody tr th {\n        vertical-align: top;\n    }\n\n    .dataframe thead th {\n        text-align: right;\n    }\n</style>\n<table border=\"1\" class=\"dataframe\">\n  <thead>\n    <tr style=\"text-align: right;\">\n      <th></th>\n      <th>Team</th>\n      <th>Goals</th>\n      <th>Shots on target</th>\n      <th>Shots off target</th>\n      <th>Shooting Accuracy</th>\n      <th>% Goals-to-shots</th>\n      <th>Total shots (inc. Blocked)</th>\n      <th>Hit Woodwork</th>\n      <th>Penalty goals</th>\n      <th>Penalties not scored</th>\n      <th>...</th>\n      <th>Saves made</th>\n      <th>Saves-to-shots ratio</th>\n      <th>Fouls Won</th>\n      <th>Fouls Conceded</th>\n      <th>Offsides</th>\n      <th>Yellow Cards</th>\n      <th>Red Cards</th>\n      <th>Subs on</th>\n      <th>Subs off</th>\n      <th>Players Used</th>\n    </tr>\n  </thead>\n  <tbody>\n    <tr>\n      <th>5</th>\n      <td>Germany</td>\n      <td>10</td>\n      <td>32</td>\n      <td>32</td>\n      <td>47.8%</td>\n      <td>15.6%</td>\n      <td>80</td>\n      <td>2</td>\n      <td>1</td>\n      <td>0</td>\n      <td>...</td>\n      <td>10</td>\n      <td>62.6%</td>\n      <td>63</td>\n      <td>49</td>\n      <td>12</td>\n      <td>4</td>\n      <td>0</td>\n      <td>15</td>\n      <td>15</td>\n      <td>17</td>\n    </tr>\n    <tr>\n      <th>6</th>\n      <td>Greece</td>\n      <td>5</td>\n      <td>8</td>\n      <td>18</td>\n      <td>30.7%</td>\n      <td>19.2%</td>\n      <td>32</td>\n      <td>1</td>\n      <td>1</td>\n      <td>1</td>\n      <td>...</td>\n      <td>13</td>\n      <td>65.1%</td>\n      <td>67</td>\n      <td>48</td>\n      <td>12</td>\n      <td>9</td>\n      <td>1</td>\n      <td>12</td>\n      <td>12</td>\n      <td>20</td>\n    </tr>\n  </tbody>\n</table>\n<p>2 rows × 35 columns</p>\n</div>"
     },
     "execution_count": 17,
     "metadata": {},
     "output_type": "execute_result"
    }
   ],
   "source": [
    "euro12[euro12.Team.str.startswith('G')]"
   ]
  },
  {
   "cell_type": "markdown",
   "metadata": {
    "collapsed": false
   },
   "source": [
    "Select the first 7 columns"
   ]
  },
  {
   "cell_type": "code",
   "execution_count": 18,
   "metadata": {
    "collapsed": false
   },
   "outputs": [
    {
     "data": {
      "text/plain": "                   Team  Goals  Shots on target  Shots off target  \\\n0               Croatia      4               13                12   \n1        Czech Republic      4               13                18   \n2               Denmark      4               10                10   \n3               England      5               11                18   \n4                France      3               22                24   \n5               Germany     10               32                32   \n6                Greece      5                8                18   \n7                 Italy      6               34                45   \n8           Netherlands      2               12                36   \n9                Poland      2               15                23   \n10             Portugal      6               22                42   \n11  Republic of Ireland      1                7                12   \n12               Russia      5                9                31   \n13                Spain     12               42                33   \n14               Sweden      5               17                19   \n15              Ukraine      2                7                26   \n\n   Shooting Accuracy % Goals-to-shots  Total shots (inc. Blocked)  \n0              51.9%            16.0%                          32  \n1              41.9%            12.9%                          39  \n2              50.0%            20.0%                          27  \n3              50.0%            17.2%                          40  \n4              37.9%             6.5%                          65  \n5              47.8%            15.6%                          80  \n6              30.7%            19.2%                          32  \n7              43.0%             7.5%                         110  \n8              25.0%             4.1%                          60  \n9              39.4%             5.2%                          48  \n10             34.3%             9.3%                          82  \n11             36.8%             5.2%                          28  \n12             22.5%            12.5%                          59  \n13             55.9%            16.0%                         100  \n14             47.2%            13.8%                          39  \n15             21.2%             6.0%                          38  ",
      "text/html": "<div>\n<style scoped>\n    .dataframe tbody tr th:only-of-type {\n        vertical-align: middle;\n    }\n\n    .dataframe tbody tr th {\n        vertical-align: top;\n    }\n\n    .dataframe thead th {\n        text-align: right;\n    }\n</style>\n<table border=\"1\" class=\"dataframe\">\n  <thead>\n    <tr style=\"text-align: right;\">\n      <th></th>\n      <th>Team</th>\n      <th>Goals</th>\n      <th>Shots on target</th>\n      <th>Shots off target</th>\n      <th>Shooting Accuracy</th>\n      <th>% Goals-to-shots</th>\n      <th>Total shots (inc. Blocked)</th>\n    </tr>\n  </thead>\n  <tbody>\n    <tr>\n      <th>0</th>\n      <td>Croatia</td>\n      <td>4</td>\n      <td>13</td>\n      <td>12</td>\n      <td>51.9%</td>\n      <td>16.0%</td>\n      <td>32</td>\n    </tr>\n    <tr>\n      <th>1</th>\n      <td>Czech Republic</td>\n      <td>4</td>\n      <td>13</td>\n      <td>18</td>\n      <td>41.9%</td>\n      <td>12.9%</td>\n      <td>39</td>\n    </tr>\n    <tr>\n      <th>2</th>\n      <td>Denmark</td>\n      <td>4</td>\n      <td>10</td>\n      <td>10</td>\n      <td>50.0%</td>\n      <td>20.0%</td>\n      <td>27</td>\n    </tr>\n    <tr>\n      <th>3</th>\n      <td>England</td>\n      <td>5</td>\n      <td>11</td>\n      <td>18</td>\n      <td>50.0%</td>\n      <td>17.2%</td>\n      <td>40</td>\n    </tr>\n    <tr>\n      <th>4</th>\n      <td>France</td>\n      <td>3</td>\n      <td>22</td>\n      <td>24</td>\n      <td>37.9%</td>\n      <td>6.5%</td>\n      <td>65</td>\n    </tr>\n    <tr>\n      <th>5</th>\n      <td>Germany</td>\n      <td>10</td>\n      <td>32</td>\n      <td>32</td>\n      <td>47.8%</td>\n      <td>15.6%</td>\n      <td>80</td>\n    </tr>\n    <tr>\n      <th>6</th>\n      <td>Greece</td>\n      <td>5</td>\n      <td>8</td>\n      <td>18</td>\n      <td>30.7%</td>\n      <td>19.2%</td>\n      <td>32</td>\n    </tr>\n    <tr>\n      <th>7</th>\n      <td>Italy</td>\n      <td>6</td>\n      <td>34</td>\n      <td>45</td>\n      <td>43.0%</td>\n      <td>7.5%</td>\n      <td>110</td>\n    </tr>\n    <tr>\n      <th>8</th>\n      <td>Netherlands</td>\n      <td>2</td>\n      <td>12</td>\n      <td>36</td>\n      <td>25.0%</td>\n      <td>4.1%</td>\n      <td>60</td>\n    </tr>\n    <tr>\n      <th>9</th>\n      <td>Poland</td>\n      <td>2</td>\n      <td>15</td>\n      <td>23</td>\n      <td>39.4%</td>\n      <td>5.2%</td>\n      <td>48</td>\n    </tr>\n    <tr>\n      <th>10</th>\n      <td>Portugal</td>\n      <td>6</td>\n      <td>22</td>\n      <td>42</td>\n      <td>34.3%</td>\n      <td>9.3%</td>\n      <td>82</td>\n    </tr>\n    <tr>\n      <th>11</th>\n      <td>Republic of Ireland</td>\n      <td>1</td>\n      <td>7</td>\n      <td>12</td>\n      <td>36.8%</td>\n      <td>5.2%</td>\n      <td>28</td>\n    </tr>\n    <tr>\n      <th>12</th>\n      <td>Russia</td>\n      <td>5</td>\n      <td>9</td>\n      <td>31</td>\n      <td>22.5%</td>\n      <td>12.5%</td>\n      <td>59</td>\n    </tr>\n    <tr>\n      <th>13</th>\n      <td>Spain</td>\n      <td>12</td>\n      <td>42</td>\n      <td>33</td>\n      <td>55.9%</td>\n      <td>16.0%</td>\n      <td>100</td>\n    </tr>\n    <tr>\n      <th>14</th>\n      <td>Sweden</td>\n      <td>5</td>\n      <td>17</td>\n      <td>19</td>\n      <td>47.2%</td>\n      <td>13.8%</td>\n      <td>39</td>\n    </tr>\n    <tr>\n      <th>15</th>\n      <td>Ukraine</td>\n      <td>2</td>\n      <td>7</td>\n      <td>26</td>\n      <td>21.2%</td>\n      <td>6.0%</td>\n      <td>38</td>\n    </tr>\n  </tbody>\n</table>\n</div>"
     },
     "execution_count": 18,
     "metadata": {},
     "output_type": "execute_result"
    }
   ],
   "source": [
    "euro12.iloc[:, :7]"
   ]
  },
  {
   "cell_type": "markdown",
   "metadata": {
    "collapsed": false
   },
   "source": [
    "Select all columns except the last 3"
   ]
  },
  {
   "cell_type": "code",
   "execution_count": 19,
   "metadata": {
    "collapsed": false
   },
   "outputs": [
    {
     "data": {
      "text/plain": "                   Team  Goals  Shots on target  Shots off target  \\\n0               Croatia      4               13                12   \n1        Czech Republic      4               13                18   \n2               Denmark      4               10                10   \n3               England      5               11                18   \n4                France      3               22                24   \n5               Germany     10               32                32   \n6                Greece      5                8                18   \n7                 Italy      6               34                45   \n8           Netherlands      2               12                36   \n9                Poland      2               15                23   \n10             Portugal      6               22                42   \n11  Republic of Ireland      1                7                12   \n12               Russia      5                9                31   \n13                Spain     12               42                33   \n14               Sweden      5               17                19   \n15              Ukraine      2                7                26   \n\n   Shooting Accuracy % Goals-to-shots  Total shots (inc. Blocked)  \\\n0              51.9%            16.0%                          32   \n1              41.9%            12.9%                          39   \n2              50.0%            20.0%                          27   \n3              50.0%            17.2%                          40   \n4              37.9%             6.5%                          65   \n5              47.8%            15.6%                          80   \n6              30.7%            19.2%                          32   \n7              43.0%             7.5%                         110   \n8              25.0%             4.1%                          60   \n9              39.4%             5.2%                          48   \n10             34.3%             9.3%                          82   \n11             36.8%             5.2%                          28   \n12             22.5%            12.5%                          59   \n13             55.9%            16.0%                         100   \n14             47.2%            13.8%                          39   \n15             21.2%             6.0%                          38   \n\n    Hit Woodwork  Penalty goals  Penalties not scored  ...  Clean Sheets  \\\n0              0              0                     0  ...             0   \n1              0              0                     0  ...             1   \n2              1              0                     0  ...             1   \n3              0              0                     0  ...             2   \n4              1              0                     0  ...             1   \n5              2              1                     0  ...             1   \n6              1              1                     1  ...             1   \n7              2              0                     0  ...             2   \n8              2              0                     0  ...             0   \n9              0              0                     0  ...             0   \n10             6              0                     0  ...             2   \n11             0              0                     0  ...             0   \n12             2              0                     0  ...             0   \n13             0              1                     0  ...             5   \n14             3              0                     0  ...             1   \n15             0              0                     0  ...             0   \n\n    Blocks  Goals conceded Saves made  Saves-to-shots ratio  Fouls Won  \\\n0       10               3         13                 81.3%         41   \n1       10               6          9                 60.1%         53   \n2       10               5         10                 66.7%         25   \n3       29               3         22                 88.1%         43   \n4        7               5          6                 54.6%         36   \n5       11               6         10                 62.6%         63   \n6       23               7         13                 65.1%         67   \n7       18               7         20                 74.1%        101   \n8        9               5         12                 70.6%         35   \n9        8               3          6                 66.7%         48   \n10      11               4         10                 71.5%         73   \n11      23               9         17                 65.4%         43   \n12       8               3         10                 77.0%         34   \n13       8               1         15                 93.8%        102   \n14      12               5          8                 61.6%         35   \n15       4               4         13                 76.5%         48   \n\n    Fouls Conceded  Offsides  Yellow Cards  Red Cards  \n0               62         2             9          0  \n1               73         8             7          0  \n2               38         8             4          0  \n3               45         6             5          0  \n4               51         5             6          0  \n5               49        12             4          0  \n6               48        12             9          1  \n7               89        16            16          0  \n8               30         3             5          0  \n9               56         3             7          1  \n10              90        10            12          0  \n11              51        11             6          1  \n12              43         4             6          0  \n13              83        19            11          0  \n14              51         7             7          0  \n15              31         4             5          0  \n\n[16 rows x 32 columns]",
      "text/html": "<div>\n<style scoped>\n    .dataframe tbody tr th:only-of-type {\n        vertical-align: middle;\n    }\n\n    .dataframe tbody tr th {\n        vertical-align: top;\n    }\n\n    .dataframe thead th {\n        text-align: right;\n    }\n</style>\n<table border=\"1\" class=\"dataframe\">\n  <thead>\n    <tr style=\"text-align: right;\">\n      <th></th>\n      <th>Team</th>\n      <th>Goals</th>\n      <th>Shots on target</th>\n      <th>Shots off target</th>\n      <th>Shooting Accuracy</th>\n      <th>% Goals-to-shots</th>\n      <th>Total shots (inc. Blocked)</th>\n      <th>Hit Woodwork</th>\n      <th>Penalty goals</th>\n      <th>Penalties not scored</th>\n      <th>...</th>\n      <th>Clean Sheets</th>\n      <th>Blocks</th>\n      <th>Goals conceded</th>\n      <th>Saves made</th>\n      <th>Saves-to-shots ratio</th>\n      <th>Fouls Won</th>\n      <th>Fouls Conceded</th>\n      <th>Offsides</th>\n      <th>Yellow Cards</th>\n      <th>Red Cards</th>\n    </tr>\n  </thead>\n  <tbody>\n    <tr>\n      <th>0</th>\n      <td>Croatia</td>\n      <td>4</td>\n      <td>13</td>\n      <td>12</td>\n      <td>51.9%</td>\n      <td>16.0%</td>\n      <td>32</td>\n      <td>0</td>\n      <td>0</td>\n      <td>0</td>\n      <td>...</td>\n      <td>0</td>\n      <td>10</td>\n      <td>3</td>\n      <td>13</td>\n      <td>81.3%</td>\n      <td>41</td>\n      <td>62</td>\n      <td>2</td>\n      <td>9</td>\n      <td>0</td>\n    </tr>\n    <tr>\n      <th>1</th>\n      <td>Czech Republic</td>\n      <td>4</td>\n      <td>13</td>\n      <td>18</td>\n      <td>41.9%</td>\n      <td>12.9%</td>\n      <td>39</td>\n      <td>0</td>\n      <td>0</td>\n      <td>0</td>\n      <td>...</td>\n      <td>1</td>\n      <td>10</td>\n      <td>6</td>\n      <td>9</td>\n      <td>60.1%</td>\n      <td>53</td>\n      <td>73</td>\n      <td>8</td>\n      <td>7</td>\n      <td>0</td>\n    </tr>\n    <tr>\n      <th>2</th>\n      <td>Denmark</td>\n      <td>4</td>\n      <td>10</td>\n      <td>10</td>\n      <td>50.0%</td>\n      <td>20.0%</td>\n      <td>27</td>\n      <td>1</td>\n      <td>0</td>\n      <td>0</td>\n      <td>...</td>\n      <td>1</td>\n      <td>10</td>\n      <td>5</td>\n      <td>10</td>\n      <td>66.7%</td>\n      <td>25</td>\n      <td>38</td>\n      <td>8</td>\n      <td>4</td>\n      <td>0</td>\n    </tr>\n    <tr>\n      <th>3</th>\n      <td>England</td>\n      <td>5</td>\n      <td>11</td>\n      <td>18</td>\n      <td>50.0%</td>\n      <td>17.2%</td>\n      <td>40</td>\n      <td>0</td>\n      <td>0</td>\n      <td>0</td>\n      <td>...</td>\n      <td>2</td>\n      <td>29</td>\n      <td>3</td>\n      <td>22</td>\n      <td>88.1%</td>\n      <td>43</td>\n      <td>45</td>\n      <td>6</td>\n      <td>5</td>\n      <td>0</td>\n    </tr>\n    <tr>\n      <th>4</th>\n      <td>France</td>\n      <td>3</td>\n      <td>22</td>\n      <td>24</td>\n      <td>37.9%</td>\n      <td>6.5%</td>\n      <td>65</td>\n      <td>1</td>\n      <td>0</td>\n      <td>0</td>\n      <td>...</td>\n      <td>1</td>\n      <td>7</td>\n      <td>5</td>\n      <td>6</td>\n      <td>54.6%</td>\n      <td>36</td>\n      <td>51</td>\n      <td>5</td>\n      <td>6</td>\n      <td>0</td>\n    </tr>\n    <tr>\n      <th>5</th>\n      <td>Germany</td>\n      <td>10</td>\n      <td>32</td>\n      <td>32</td>\n      <td>47.8%</td>\n      <td>15.6%</td>\n      <td>80</td>\n      <td>2</td>\n      <td>1</td>\n      <td>0</td>\n      <td>...</td>\n      <td>1</td>\n      <td>11</td>\n      <td>6</td>\n      <td>10</td>\n      <td>62.6%</td>\n      <td>63</td>\n      <td>49</td>\n      <td>12</td>\n      <td>4</td>\n      <td>0</td>\n    </tr>\n    <tr>\n      <th>6</th>\n      <td>Greece</td>\n      <td>5</td>\n      <td>8</td>\n      <td>18</td>\n      <td>30.7%</td>\n      <td>19.2%</td>\n      <td>32</td>\n      <td>1</td>\n      <td>1</td>\n      <td>1</td>\n      <td>...</td>\n      <td>1</td>\n      <td>23</td>\n      <td>7</td>\n      <td>13</td>\n      <td>65.1%</td>\n      <td>67</td>\n      <td>48</td>\n      <td>12</td>\n      <td>9</td>\n      <td>1</td>\n    </tr>\n    <tr>\n      <th>7</th>\n      <td>Italy</td>\n      <td>6</td>\n      <td>34</td>\n      <td>45</td>\n      <td>43.0%</td>\n      <td>7.5%</td>\n      <td>110</td>\n      <td>2</td>\n      <td>0</td>\n      <td>0</td>\n      <td>...</td>\n      <td>2</td>\n      <td>18</td>\n      <td>7</td>\n      <td>20</td>\n      <td>74.1%</td>\n      <td>101</td>\n      <td>89</td>\n      <td>16</td>\n      <td>16</td>\n      <td>0</td>\n    </tr>\n    <tr>\n      <th>8</th>\n      <td>Netherlands</td>\n      <td>2</td>\n      <td>12</td>\n      <td>36</td>\n      <td>25.0%</td>\n      <td>4.1%</td>\n      <td>60</td>\n      <td>2</td>\n      <td>0</td>\n      <td>0</td>\n      <td>...</td>\n      <td>0</td>\n      <td>9</td>\n      <td>5</td>\n      <td>12</td>\n      <td>70.6%</td>\n      <td>35</td>\n      <td>30</td>\n      <td>3</td>\n      <td>5</td>\n      <td>0</td>\n    </tr>\n    <tr>\n      <th>9</th>\n      <td>Poland</td>\n      <td>2</td>\n      <td>15</td>\n      <td>23</td>\n      <td>39.4%</td>\n      <td>5.2%</td>\n      <td>48</td>\n      <td>0</td>\n      <td>0</td>\n      <td>0</td>\n      <td>...</td>\n      <td>0</td>\n      <td>8</td>\n      <td>3</td>\n      <td>6</td>\n      <td>66.7%</td>\n      <td>48</td>\n      <td>56</td>\n      <td>3</td>\n      <td>7</td>\n      <td>1</td>\n    </tr>\n    <tr>\n      <th>10</th>\n      <td>Portugal</td>\n      <td>6</td>\n      <td>22</td>\n      <td>42</td>\n      <td>34.3%</td>\n      <td>9.3%</td>\n      <td>82</td>\n      <td>6</td>\n      <td>0</td>\n      <td>0</td>\n      <td>...</td>\n      <td>2</td>\n      <td>11</td>\n      <td>4</td>\n      <td>10</td>\n      <td>71.5%</td>\n      <td>73</td>\n      <td>90</td>\n      <td>10</td>\n      <td>12</td>\n      <td>0</td>\n    </tr>\n    <tr>\n      <th>11</th>\n      <td>Republic of Ireland</td>\n      <td>1</td>\n      <td>7</td>\n      <td>12</td>\n      <td>36.8%</td>\n      <td>5.2%</td>\n      <td>28</td>\n      <td>0</td>\n      <td>0</td>\n      <td>0</td>\n      <td>...</td>\n      <td>0</td>\n      <td>23</td>\n      <td>9</td>\n      <td>17</td>\n      <td>65.4%</td>\n      <td>43</td>\n      <td>51</td>\n      <td>11</td>\n      <td>6</td>\n      <td>1</td>\n    </tr>\n    <tr>\n      <th>12</th>\n      <td>Russia</td>\n      <td>5</td>\n      <td>9</td>\n      <td>31</td>\n      <td>22.5%</td>\n      <td>12.5%</td>\n      <td>59</td>\n      <td>2</td>\n      <td>0</td>\n      <td>0</td>\n      <td>...</td>\n      <td>0</td>\n      <td>8</td>\n      <td>3</td>\n      <td>10</td>\n      <td>77.0%</td>\n      <td>34</td>\n      <td>43</td>\n      <td>4</td>\n      <td>6</td>\n      <td>0</td>\n    </tr>\n    <tr>\n      <th>13</th>\n      <td>Spain</td>\n      <td>12</td>\n      <td>42</td>\n      <td>33</td>\n      <td>55.9%</td>\n      <td>16.0%</td>\n      <td>100</td>\n      <td>0</td>\n      <td>1</td>\n      <td>0</td>\n      <td>...</td>\n      <td>5</td>\n      <td>8</td>\n      <td>1</td>\n      <td>15</td>\n      <td>93.8%</td>\n      <td>102</td>\n      <td>83</td>\n      <td>19</td>\n      <td>11</td>\n      <td>0</td>\n    </tr>\n    <tr>\n      <th>14</th>\n      <td>Sweden</td>\n      <td>5</td>\n      <td>17</td>\n      <td>19</td>\n      <td>47.2%</td>\n      <td>13.8%</td>\n      <td>39</td>\n      <td>3</td>\n      <td>0</td>\n      <td>0</td>\n      <td>...</td>\n      <td>1</td>\n      <td>12</td>\n      <td>5</td>\n      <td>8</td>\n      <td>61.6%</td>\n      <td>35</td>\n      <td>51</td>\n      <td>7</td>\n      <td>7</td>\n      <td>0</td>\n    </tr>\n    <tr>\n      <th>15</th>\n      <td>Ukraine</td>\n      <td>2</td>\n      <td>7</td>\n      <td>26</td>\n      <td>21.2%</td>\n      <td>6.0%</td>\n      <td>38</td>\n      <td>0</td>\n      <td>0</td>\n      <td>0</td>\n      <td>...</td>\n      <td>0</td>\n      <td>4</td>\n      <td>4</td>\n      <td>13</td>\n      <td>76.5%</td>\n      <td>48</td>\n      <td>31</td>\n      <td>4</td>\n      <td>5</td>\n      <td>0</td>\n    </tr>\n  </tbody>\n</table>\n<p>16 rows × 32 columns</p>\n</div>"
     },
     "execution_count": 19,
     "metadata": {},
     "output_type": "execute_result"
    }
   ],
   "source": [
    "euro12.iloc[:, :-3]"
   ]
  },
  {
   "cell_type": "markdown",
   "metadata": {
    "collapsed": false
   },
   "source": [
    "Present only the Shooting Accuracy from England, Italy and Russia"
   ]
  },
  {
   "cell_type": "code",
   "execution_count": 20,
   "metadata": {
    "collapsed": false
   },
   "outputs": [
    {
     "data": {
      "text/plain": "       Team Shooting Accuracy\n3   England             50.0%\n7     Italy             43.0%\n12   Russia             22.5%",
      "text/html": "<div>\n<style scoped>\n    .dataframe tbody tr th:only-of-type {\n        vertical-align: middle;\n    }\n\n    .dataframe tbody tr th {\n        vertical-align: top;\n    }\n\n    .dataframe thead th {\n        text-align: right;\n    }\n</style>\n<table border=\"1\" class=\"dataframe\">\n  <thead>\n    <tr style=\"text-align: right;\">\n      <th></th>\n      <th>Team</th>\n      <th>Shooting Accuracy</th>\n    </tr>\n  </thead>\n  <tbody>\n    <tr>\n      <th>3</th>\n      <td>England</td>\n      <td>50.0%</td>\n    </tr>\n    <tr>\n      <th>7</th>\n      <td>Italy</td>\n      <td>43.0%</td>\n    </tr>\n    <tr>\n      <th>12</th>\n      <td>Russia</td>\n      <td>22.5%</td>\n    </tr>\n  </tbody>\n</table>\n</div>"
     },
     "execution_count": 20,
     "metadata": {},
     "output_type": "execute_result"
    }
   ],
   "source": [
    "euro12[euro12.Team.isin(['England', 'Italy', 'Russia'])][['Team', 'Shooting Accuracy']]"
   ]
  },
  {
   "cell_type": "markdown",
   "metadata": {
    "collapsed": false
   },
   "source": [
    "# Question 3\n"
   ]
  },
  {
   "cell_type": "markdown",
   "metadata": {
    "collapsed": false
   },
   "source": [
    "Import the necessary libraries\n"
   ]
  },
  {
   "cell_type": "code",
   "execution_count": 21,
   "metadata": {
    "collapsed": false
   },
   "outputs": [],
   "source": [
    "import pandas as pd\n",
    "import numpy as np"
   ]
  },
  {
   "cell_type": "markdown",
   "metadata": {
    "collapsed": false
   },
   "source": [
    "Create 3 differents Series, each of length 100, as follows:\n",
    "• The first a random number from 1 to 4\n",
    "• The second a random number from 1 to 3\n",
    "• The third a random number from 10,000 to 30,000"
   ]
  },
  {
   "cell_type": "code",
   "execution_count": 22,
   "metadata": {
    "collapsed": false
   },
   "outputs": [
    {
     "data": {
      "text/plain": "(0     1\n 1     4\n 2     2\n 3     1\n 4     1\n      ..\n 95    1\n 96    2\n 97    2\n 98    4\n 99    3\n Length: 100, dtype: int64,\n 0     2\n 1     3\n 2     2\n 3     1\n 4     1\n      ..\n 95    2\n 96    3\n 97    1\n 98    2\n 99    2\n Length: 100, dtype: int64,\n 0     24137\n 1     29006\n 2     15367\n 3     16852\n 4     26409\n       ...  \n 95    17400\n 96    16432\n 97    25685\n 98    11055\n 99    12212\n Length: 100, dtype: int64)"
     },
     "execution_count": 22,
     "metadata": {},
     "output_type": "execute_result"
    }
   ],
   "source": [
    "series1 = pd.Series(np.random.randint(low=1, high=5, size=100 ))\n",
    "series2 = pd.Series(np.random.randint(low=1, high=4, size=100 ))\n",
    "series3 = pd.Series(np.random.randint(low=10000, high=30001, size=100))\n",
    "series1,series2,series3"
   ]
  },
  {
   "cell_type": "markdown",
   "metadata": {
    "collapsed": false
   },
   "source": [
    "Create a DataFrame by joinning the Series by column"
   ]
  },
  {
   "cell_type": "code",
   "execution_count": 23,
   "metadata": {
    "collapsed": false
   },
   "outputs": [
    {
     "data": {
      "text/plain": "    0  1      2\n0   1  2  24137\n1   4  3  29006\n2   2  2  15367\n3   1  1  16852\n4   1  1  26409\n.. .. ..    ...\n95  1  2  17400\n96  2  3  16432\n97  2  1  25685\n98  4  2  11055\n99  3  2  12212\n\n[100 rows x 3 columns]",
      "text/html": "<div>\n<style scoped>\n    .dataframe tbody tr th:only-of-type {\n        vertical-align: middle;\n    }\n\n    .dataframe tbody tr th {\n        vertical-align: top;\n    }\n\n    .dataframe thead th {\n        text-align: right;\n    }\n</style>\n<table border=\"1\" class=\"dataframe\">\n  <thead>\n    <tr style=\"text-align: right;\">\n      <th></th>\n      <th>0</th>\n      <th>1</th>\n      <th>2</th>\n    </tr>\n  </thead>\n  <tbody>\n    <tr>\n      <th>0</th>\n      <td>1</td>\n      <td>2</td>\n      <td>24137</td>\n    </tr>\n    <tr>\n      <th>1</th>\n      <td>4</td>\n      <td>3</td>\n      <td>29006</td>\n    </tr>\n    <tr>\n      <th>2</th>\n      <td>2</td>\n      <td>2</td>\n      <td>15367</td>\n    </tr>\n    <tr>\n      <th>3</th>\n      <td>1</td>\n      <td>1</td>\n      <td>16852</td>\n    </tr>\n    <tr>\n      <th>4</th>\n      <td>1</td>\n      <td>1</td>\n      <td>26409</td>\n    </tr>\n    <tr>\n      <th>...</th>\n      <td>...</td>\n      <td>...</td>\n      <td>...</td>\n    </tr>\n    <tr>\n      <th>95</th>\n      <td>1</td>\n      <td>2</td>\n      <td>17400</td>\n    </tr>\n    <tr>\n      <th>96</th>\n      <td>2</td>\n      <td>3</td>\n      <td>16432</td>\n    </tr>\n    <tr>\n      <th>97</th>\n      <td>2</td>\n      <td>1</td>\n      <td>25685</td>\n    </tr>\n    <tr>\n      <th>98</th>\n      <td>4</td>\n      <td>2</td>\n      <td>11055</td>\n    </tr>\n    <tr>\n      <th>99</th>\n      <td>3</td>\n      <td>2</td>\n      <td>12212</td>\n    </tr>\n  </tbody>\n</table>\n<p>100 rows × 3 columns</p>\n</div>"
     },
     "execution_count": 23,
     "metadata": {},
     "output_type": "execute_result"
    }
   ],
   "source": [
    "data_frame = pd.concat([series1, series2, series3], axis=1)\n",
    "data_frame"
   ]
  },
  {
   "cell_type": "markdown",
   "metadata": {
    "collapsed": false
   },
   "source": []
  },
  {
   "cell_type": "markdown",
   "metadata": {
    "collapsed": false
   },
   "source": [
    "Change the name of the columns to bedrs, bathrs, price_sqr_meter"
   ]
  },
  {
   "cell_type": "code",
   "execution_count": 24,
   "metadata": {
    "collapsed": false
   },
   "outputs": [
    {
     "data": {
      "text/plain": "    bedrs  bathrs  price_sqr_meter\n0       1       2            24137\n1       4       3            29006\n2       2       2            15367\n3       1       1            16852\n4       1       1            26409\n..    ...     ...              ...\n95      1       2            17400\n96      2       3            16432\n97      2       1            25685\n98      4       2            11055\n99      3       2            12212\n\n[100 rows x 3 columns]",
      "text/html": "<div>\n<style scoped>\n    .dataframe tbody tr th:only-of-type {\n        vertical-align: middle;\n    }\n\n    .dataframe tbody tr th {\n        vertical-align: top;\n    }\n\n    .dataframe thead th {\n        text-align: right;\n    }\n</style>\n<table border=\"1\" class=\"dataframe\">\n  <thead>\n    <tr style=\"text-align: right;\">\n      <th></th>\n      <th>bedrs</th>\n      <th>bathrs</th>\n      <th>price_sqr_meter</th>\n    </tr>\n  </thead>\n  <tbody>\n    <tr>\n      <th>0</th>\n      <td>1</td>\n      <td>2</td>\n      <td>24137</td>\n    </tr>\n    <tr>\n      <th>1</th>\n      <td>4</td>\n      <td>3</td>\n      <td>29006</td>\n    </tr>\n    <tr>\n      <th>2</th>\n      <td>2</td>\n      <td>2</td>\n      <td>15367</td>\n    </tr>\n    <tr>\n      <th>3</th>\n      <td>1</td>\n      <td>1</td>\n      <td>16852</td>\n    </tr>\n    <tr>\n      <th>4</th>\n      <td>1</td>\n      <td>1</td>\n      <td>26409</td>\n    </tr>\n    <tr>\n      <th>...</th>\n      <td>...</td>\n      <td>...</td>\n      <td>...</td>\n    </tr>\n    <tr>\n      <th>95</th>\n      <td>1</td>\n      <td>2</td>\n      <td>17400</td>\n    </tr>\n    <tr>\n      <th>96</th>\n      <td>2</td>\n      <td>3</td>\n      <td>16432</td>\n    </tr>\n    <tr>\n      <th>97</th>\n      <td>2</td>\n      <td>1</td>\n      <td>25685</td>\n    </tr>\n    <tr>\n      <th>98</th>\n      <td>4</td>\n      <td>2</td>\n      <td>11055</td>\n    </tr>\n    <tr>\n      <th>99</th>\n      <td>3</td>\n      <td>2</td>\n      <td>12212</td>\n    </tr>\n  </tbody>\n</table>\n<p>100 rows × 3 columns</p>\n</div>"
     },
     "execution_count": 24,
     "metadata": {},
     "output_type": "execute_result"
    }
   ],
   "source": [
    "data_frame.columns = ['bedrs', 'bathrs', 'price_sqr_meter']\n",
    "data_frame"
   ]
  },
  {
   "cell_type": "markdown",
   "metadata": {
    "collapsed": false
   },
   "source": [
    "Create a one column DataFrame with the values of the 3 Series and assign it to 'bigcolumn'"
   ]
  },
  {
   "cell_type": "code",
   "execution_count": 25,
   "metadata": {
    "collapsed": false
   },
   "outputs": [
    {
     "data": {
      "text/plain": "        0\n0       1\n1       4\n2       2\n3       1\n4       1\n..    ...\n95  17400\n96  16432\n97  25685\n98  11055\n99  12212\n\n[300 rows x 1 columns]",
      "text/html": "<div>\n<style scoped>\n    .dataframe tbody tr th:only-of-type {\n        vertical-align: middle;\n    }\n\n    .dataframe tbody tr th {\n        vertical-align: top;\n    }\n\n    .dataframe thead th {\n        text-align: right;\n    }\n</style>\n<table border=\"1\" class=\"dataframe\">\n  <thead>\n    <tr style=\"text-align: right;\">\n      <th></th>\n      <th>0</th>\n    </tr>\n  </thead>\n  <tbody>\n    <tr>\n      <th>0</th>\n      <td>1</td>\n    </tr>\n    <tr>\n      <th>1</th>\n      <td>4</td>\n    </tr>\n    <tr>\n      <th>2</th>\n      <td>2</td>\n    </tr>\n    <tr>\n      <th>3</th>\n      <td>1</td>\n    </tr>\n    <tr>\n      <th>4</th>\n      <td>1</td>\n    </tr>\n    <tr>\n      <th>...</th>\n      <td>...</td>\n    </tr>\n    <tr>\n      <th>95</th>\n      <td>17400</td>\n    </tr>\n    <tr>\n      <th>96</th>\n      <td>16432</td>\n    </tr>\n    <tr>\n      <th>97</th>\n      <td>25685</td>\n    </tr>\n    <tr>\n      <th>98</th>\n      <td>11055</td>\n    </tr>\n    <tr>\n      <th>99</th>\n      <td>12212</td>\n    </tr>\n  </tbody>\n</table>\n<p>300 rows × 1 columns</p>\n</div>"
     },
     "execution_count": 25,
     "metadata": {},
     "output_type": "execute_result"
    }
   ],
   "source": [
    "bigcolumn = pd.concat([series1, series2, series3], axis=0).to_frame()\n",
    "bigcolumn"
   ]
  },
  {
   "cell_type": "markdown",
   "metadata": {
    "collapsed": false
   },
   "source": [
    "Ops it seems it is going only until index 99. Is it true?"
   ]
  },
  {
   "cell_type": "code",
   "execution_count": 26,
   "metadata": {
    "collapsed": false
   },
   "outputs": [
    {
     "data": {
      "text/plain": "Int64Index([ 0,  1,  2,  3,  4,  5,  6,  7,  8,  9,\n            ...\n            90, 91, 92, 93, 94, 95, 96, 97, 98, 99],\n           dtype='int64', length=300)"
     },
     "execution_count": 26,
     "metadata": {},
     "output_type": "execute_result"
    }
   ],
   "source": [
    "bigcolumn.index\n",
    "# No It's not true as dataframe length is 300"
   ]
  },
  {
   "cell_type": "markdown",
   "metadata": {
    "collapsed": false
   },
   "source": [
    "Reindex the DataFrame so it goes from 0 to 299"
   ]
  },
  {
   "cell_type": "code",
   "execution_count": 27,
   "metadata": {
    "collapsed": false
   },
   "outputs": [
    {
     "data": {
      "text/plain": "         0\n0        1\n1        4\n2        2\n3        1\n4        1\n..     ...\n295  17400\n296  16432\n297  25685\n298  11055\n299  12212\n\n[300 rows x 1 columns]",
      "text/html": "<div>\n<style scoped>\n    .dataframe tbody tr th:only-of-type {\n        vertical-align: middle;\n    }\n\n    .dataframe tbody tr th {\n        vertical-align: top;\n    }\n\n    .dataframe thead th {\n        text-align: right;\n    }\n</style>\n<table border=\"1\" class=\"dataframe\">\n  <thead>\n    <tr style=\"text-align: right;\">\n      <th></th>\n      <th>0</th>\n    </tr>\n  </thead>\n  <tbody>\n    <tr>\n      <th>0</th>\n      <td>1</td>\n    </tr>\n    <tr>\n      <th>1</th>\n      <td>4</td>\n    </tr>\n    <tr>\n      <th>2</th>\n      <td>2</td>\n    </tr>\n    <tr>\n      <th>3</th>\n      <td>1</td>\n    </tr>\n    <tr>\n      <th>4</th>\n      <td>1</td>\n    </tr>\n    <tr>\n      <th>...</th>\n      <td>...</td>\n    </tr>\n    <tr>\n      <th>295</th>\n      <td>17400</td>\n    </tr>\n    <tr>\n      <th>296</th>\n      <td>16432</td>\n    </tr>\n    <tr>\n      <th>297</th>\n      <td>25685</td>\n    </tr>\n    <tr>\n      <th>298</th>\n      <td>11055</td>\n    </tr>\n    <tr>\n      <th>299</th>\n      <td>12212</td>\n    </tr>\n  </tbody>\n</table>\n<p>300 rows × 1 columns</p>\n</div>"
     },
     "execution_count": 27,
     "metadata": {},
     "output_type": "execute_result"
    }
   ],
   "source": [
    "bigcolumn.reset_index(drop=True)"
   ]
  },
  {
   "cell_type": "markdown",
   "metadata": {
    "collapsed": false
   },
   "source": [
    "# Question 4"
   ]
  },
  {
   "cell_type": "markdown",
   "metadata": {
    "collapsed": false
   },
   "source": [
    "Import the necessary libraries\n"
   ]
  },
  {
   "cell_type": "code",
   "execution_count": 28,
   "metadata": {
    "collapsed": false
   },
   "outputs": [],
   "source": [
    "import pandas as pd\n",
    "import numpy as np"
   ]
  },
  {
   "cell_type": "markdown",
   "metadata": {
    "collapsed": false
   },
   "source": []
  },
  {
   "cell_type": "markdown",
   "metadata": {
    "collapsed": false
   },
   "source": [
    "Import the dataset from the attached file wind.txt & Assign it to a variable called data and replace the first 3 columns by a proper\n",
    "datetime index."
   ]
  },
  {
   "cell_type": "code",
   "execution_count": 29,
   "metadata": {
    "collapsed": false
   },
   "outputs": [
    {
     "data": {
      "text/plain": "     RPT    VAL    ROS    KIL    SHA   BIR    DUB    CLA    MUL    CLO    BEL  \\\n0  15.04  14.96  13.17   9.29    NaN  9.87  13.67  10.25  10.83  12.58  18.50   \n1  14.71    NaN  10.83   6.50  12.62  7.67  11.50  10.04   9.79   9.67  17.54   \n2  18.50  16.88  12.33  10.13  11.17  6.17  11.25    NaN   8.50   7.67  12.75   \n3  10.58   6.63  11.75   4.58   4.54  2.88   8.63   1.79   5.83   5.88   5.46   \n4  13.33  13.25  11.42   6.17  10.71  8.21  11.92   6.54  10.92  10.34  12.92   \n\n     MAL       Date  \n0  15.04 2061-01-01  \n1  13.83 2061-01-02  \n2  12.71 2061-01-03  \n3  10.88 2061-01-04  \n4  11.83 2061-01-05  ",
      "text/html": "<div>\n<style scoped>\n    .dataframe tbody tr th:only-of-type {\n        vertical-align: middle;\n    }\n\n    .dataframe tbody tr th {\n        vertical-align: top;\n    }\n\n    .dataframe thead th {\n        text-align: right;\n    }\n</style>\n<table border=\"1\" class=\"dataframe\">\n  <thead>\n    <tr style=\"text-align: right;\">\n      <th></th>\n      <th>RPT</th>\n      <th>VAL</th>\n      <th>ROS</th>\n      <th>KIL</th>\n      <th>SHA</th>\n      <th>BIR</th>\n      <th>DUB</th>\n      <th>CLA</th>\n      <th>MUL</th>\n      <th>CLO</th>\n      <th>BEL</th>\n      <th>MAL</th>\n      <th>Date</th>\n    </tr>\n  </thead>\n  <tbody>\n    <tr>\n      <th>0</th>\n      <td>15.04</td>\n      <td>14.96</td>\n      <td>13.17</td>\n      <td>9.29</td>\n      <td>NaN</td>\n      <td>9.87</td>\n      <td>13.67</td>\n      <td>10.25</td>\n      <td>10.83</td>\n      <td>12.58</td>\n      <td>18.50</td>\n      <td>15.04</td>\n      <td>2061-01-01</td>\n    </tr>\n    <tr>\n      <th>1</th>\n      <td>14.71</td>\n      <td>NaN</td>\n      <td>10.83</td>\n      <td>6.50</td>\n      <td>12.62</td>\n      <td>7.67</td>\n      <td>11.50</td>\n      <td>10.04</td>\n      <td>9.79</td>\n      <td>9.67</td>\n      <td>17.54</td>\n      <td>13.83</td>\n      <td>2061-01-02</td>\n    </tr>\n    <tr>\n      <th>2</th>\n      <td>18.50</td>\n      <td>16.88</td>\n      <td>12.33</td>\n      <td>10.13</td>\n      <td>11.17</td>\n      <td>6.17</td>\n      <td>11.25</td>\n      <td>NaN</td>\n      <td>8.50</td>\n      <td>7.67</td>\n      <td>12.75</td>\n      <td>12.71</td>\n      <td>2061-01-03</td>\n    </tr>\n    <tr>\n      <th>3</th>\n      <td>10.58</td>\n      <td>6.63</td>\n      <td>11.75</td>\n      <td>4.58</td>\n      <td>4.54</td>\n      <td>2.88</td>\n      <td>8.63</td>\n      <td>1.79</td>\n      <td>5.83</td>\n      <td>5.88</td>\n      <td>5.46</td>\n      <td>10.88</td>\n      <td>2061-01-04</td>\n    </tr>\n    <tr>\n      <th>4</th>\n      <td>13.33</td>\n      <td>13.25</td>\n      <td>11.42</td>\n      <td>6.17</td>\n      <td>10.71</td>\n      <td>8.21</td>\n      <td>11.92</td>\n      <td>6.54</td>\n      <td>10.92</td>\n      <td>10.34</td>\n      <td>12.92</td>\n      <td>11.83</td>\n      <td>2061-01-05</td>\n    </tr>\n  </tbody>\n</table>\n</div>"
     },
     "execution_count": 29,
     "metadata": {},
     "output_type": "execute_result"
    }
   ],
   "source": [
    "data = pd.read_csv('data/wind.txt', sep='\\s+') # Read in data\n",
    "data[\"Date\"] = pd.to_datetime(data[[\"Yr\",\"Mo\",\"Dy\"]].astype(str).agg('-'.join, axis=1)) # Create date column\n",
    "data = data.drop(columns=[\"Yr\",\"Mo\",\"Dy\"]) # Remove unneeded columns\n",
    "data.head() # Examine first few rows of data"
   ]
  },
  {
   "cell_type": "markdown",
   "metadata": {
    "collapsed": false
   },
   "source": [
    "Year 2061? Do we really have data from this year? Create a function to fix it and apply it."
   ]
  },
  {
   "cell_type": "code",
   "execution_count": 30,
   "metadata": {
    "collapsed": false
   },
   "outputs": [
    {
     "data": {
      "text/plain": "        RPT    VAL    ROS    KIL    SHA    BIR    DUB    CLA    MUL    CLO  \\\n0     15.04  14.96  13.17   9.29    NaN   9.87  13.67  10.25  10.83  12.58   \n1     14.71    NaN  10.83   6.50  12.62   7.67  11.50  10.04   9.79   9.67   \n2     18.50  16.88  12.33  10.13  11.17   6.17  11.25    NaN   8.50   7.67   \n3     10.58   6.63  11.75   4.58   4.54   2.88   8.63   1.79   5.83   5.88   \n4     13.33  13.25  11.42   6.17  10.71   8.21  11.92   6.54  10.92  10.34   \n...     ...    ...    ...    ...    ...    ...    ...    ...    ...    ...   \n6569  17.58  16.96  17.62   8.08  13.21  11.67  14.46  15.59  14.04  14.00   \n6570  13.21   5.46  13.46   5.00   8.12   9.42  14.33  16.25  15.25  18.05   \n6571  14.00  10.29  14.42   8.71   9.71  10.54  19.17  12.46  14.50  16.42   \n6572  18.50  14.04  21.29   9.13  12.75   9.71  18.08  12.87  12.46  12.12   \n6573  20.33  17.41  27.29   9.59  12.08  10.13  19.25  11.63  11.58  11.38   \n\n        BEL    MAL       Date  \n0     18.50  15.04 1961-01-01  \n1     17.54  13.83 1961-01-02  \n2     12.75  12.71 1961-01-03  \n3      5.46  10.88 1961-01-04  \n4     12.92  11.83 1961-01-05  \n...     ...    ...        ...  \n6569  17.21  40.08 1978-12-27  \n6570  21.79  41.46 1978-12-28  \n6571  18.88  29.58 1978-12-29  \n6572  14.67  28.79 1978-12-30  \n6573  12.08  22.08 1978-12-31  \n\n[6574 rows x 13 columns]",
      "text/html": "<div>\n<style scoped>\n    .dataframe tbody tr th:only-of-type {\n        vertical-align: middle;\n    }\n\n    .dataframe tbody tr th {\n        vertical-align: top;\n    }\n\n    .dataframe thead th {\n        text-align: right;\n    }\n</style>\n<table border=\"1\" class=\"dataframe\">\n  <thead>\n    <tr style=\"text-align: right;\">\n      <th></th>\n      <th>RPT</th>\n      <th>VAL</th>\n      <th>ROS</th>\n      <th>KIL</th>\n      <th>SHA</th>\n      <th>BIR</th>\n      <th>DUB</th>\n      <th>CLA</th>\n      <th>MUL</th>\n      <th>CLO</th>\n      <th>BEL</th>\n      <th>MAL</th>\n      <th>Date</th>\n    </tr>\n  </thead>\n  <tbody>\n    <tr>\n      <th>0</th>\n      <td>15.04</td>\n      <td>14.96</td>\n      <td>13.17</td>\n      <td>9.29</td>\n      <td>NaN</td>\n      <td>9.87</td>\n      <td>13.67</td>\n      <td>10.25</td>\n      <td>10.83</td>\n      <td>12.58</td>\n      <td>18.50</td>\n      <td>15.04</td>\n      <td>1961-01-01</td>\n    </tr>\n    <tr>\n      <th>1</th>\n      <td>14.71</td>\n      <td>NaN</td>\n      <td>10.83</td>\n      <td>6.50</td>\n      <td>12.62</td>\n      <td>7.67</td>\n      <td>11.50</td>\n      <td>10.04</td>\n      <td>9.79</td>\n      <td>9.67</td>\n      <td>17.54</td>\n      <td>13.83</td>\n      <td>1961-01-02</td>\n    </tr>\n    <tr>\n      <th>2</th>\n      <td>18.50</td>\n      <td>16.88</td>\n      <td>12.33</td>\n      <td>10.13</td>\n      <td>11.17</td>\n      <td>6.17</td>\n      <td>11.25</td>\n      <td>NaN</td>\n      <td>8.50</td>\n      <td>7.67</td>\n      <td>12.75</td>\n      <td>12.71</td>\n      <td>1961-01-03</td>\n    </tr>\n    <tr>\n      <th>3</th>\n      <td>10.58</td>\n      <td>6.63</td>\n      <td>11.75</td>\n      <td>4.58</td>\n      <td>4.54</td>\n      <td>2.88</td>\n      <td>8.63</td>\n      <td>1.79</td>\n      <td>5.83</td>\n      <td>5.88</td>\n      <td>5.46</td>\n      <td>10.88</td>\n      <td>1961-01-04</td>\n    </tr>\n    <tr>\n      <th>4</th>\n      <td>13.33</td>\n      <td>13.25</td>\n      <td>11.42</td>\n      <td>6.17</td>\n      <td>10.71</td>\n      <td>8.21</td>\n      <td>11.92</td>\n      <td>6.54</td>\n      <td>10.92</td>\n      <td>10.34</td>\n      <td>12.92</td>\n      <td>11.83</td>\n      <td>1961-01-05</td>\n    </tr>\n    <tr>\n      <th>...</th>\n      <td>...</td>\n      <td>...</td>\n      <td>...</td>\n      <td>...</td>\n      <td>...</td>\n      <td>...</td>\n      <td>...</td>\n      <td>...</td>\n      <td>...</td>\n      <td>...</td>\n      <td>...</td>\n      <td>...</td>\n      <td>...</td>\n    </tr>\n    <tr>\n      <th>6569</th>\n      <td>17.58</td>\n      <td>16.96</td>\n      <td>17.62</td>\n      <td>8.08</td>\n      <td>13.21</td>\n      <td>11.67</td>\n      <td>14.46</td>\n      <td>15.59</td>\n      <td>14.04</td>\n      <td>14.00</td>\n      <td>17.21</td>\n      <td>40.08</td>\n      <td>1978-12-27</td>\n    </tr>\n    <tr>\n      <th>6570</th>\n      <td>13.21</td>\n      <td>5.46</td>\n      <td>13.46</td>\n      <td>5.00</td>\n      <td>8.12</td>\n      <td>9.42</td>\n      <td>14.33</td>\n      <td>16.25</td>\n      <td>15.25</td>\n      <td>18.05</td>\n      <td>21.79</td>\n      <td>41.46</td>\n      <td>1978-12-28</td>\n    </tr>\n    <tr>\n      <th>6571</th>\n      <td>14.00</td>\n      <td>10.29</td>\n      <td>14.42</td>\n      <td>8.71</td>\n      <td>9.71</td>\n      <td>10.54</td>\n      <td>19.17</td>\n      <td>12.46</td>\n      <td>14.50</td>\n      <td>16.42</td>\n      <td>18.88</td>\n      <td>29.58</td>\n      <td>1978-12-29</td>\n    </tr>\n    <tr>\n      <th>6572</th>\n      <td>18.50</td>\n      <td>14.04</td>\n      <td>21.29</td>\n      <td>9.13</td>\n      <td>12.75</td>\n      <td>9.71</td>\n      <td>18.08</td>\n      <td>12.87</td>\n      <td>12.46</td>\n      <td>12.12</td>\n      <td>14.67</td>\n      <td>28.79</td>\n      <td>1978-12-30</td>\n    </tr>\n    <tr>\n      <th>6573</th>\n      <td>20.33</td>\n      <td>17.41</td>\n      <td>27.29</td>\n      <td>9.59</td>\n      <td>12.08</td>\n      <td>10.13</td>\n      <td>19.25</td>\n      <td>11.63</td>\n      <td>11.58</td>\n      <td>11.38</td>\n      <td>12.08</td>\n      <td>22.08</td>\n      <td>1978-12-31</td>\n    </tr>\n  </tbody>\n</table>\n<p>6574 rows × 13 columns</p>\n</div>"
     },
     "execution_count": 30,
     "metadata": {},
     "output_type": "execute_result"
    }
   ],
   "source": [
    "data[\"Date\"] = np.where(pd.DatetimeIndex(data[\"Date\"]).year < 2000,data.Date,data.Date - pd.offsets.DateOffset(years=100))\n",
    "data"
   ]
  },
  {
   "cell_type": "markdown",
   "metadata": {
    "collapsed": false
   },
   "source": [
    "Set the right dates as the index. Pay attention at the data type, it should be datetime64[ns]"
   ]
  },
  {
   "cell_type": "code",
   "execution_count": 31,
   "metadata": {
    "collapsed": false
   },
   "outputs": [
    {
     "data": {
      "text/plain": "DatetimeIndex(['1961-01-01', '1961-01-02', '1961-01-03', '1961-01-04',\n               '1961-01-05', '1961-01-06', '1961-01-07', '1961-01-08',\n               '1961-01-09', '1961-01-10',\n               ...\n               '1978-12-22', '1978-12-23', '1978-12-24', '1978-12-25',\n               '1978-12-26', '1978-12-27', '1978-12-28', '1978-12-29',\n               '1978-12-30', '1978-12-31'],\n              dtype='datetime64[ns]', name='Date', length=6574, freq=None)"
     },
     "execution_count": 31,
     "metadata": {},
     "output_type": "execute_result"
    }
   ],
   "source": [
    "data = data.set_index(\"Date\")\n",
    "data.index.astype(\"datetime64[ns]\")"
   ]
  },
  {
   "cell_type": "markdown",
   "metadata": {
    "collapsed": false
   },
   "source": [
    "6. Compute how many values are missing for each location over the entire record.They should be ignored in all calculations below."
   ]
  },
  {
   "cell_type": "code",
   "execution_count": 32,
   "metadata": {
    "collapsed": false
   },
   "outputs": [
    {
     "data": {
      "text/plain": "31"
     },
     "execution_count": 32,
     "metadata": {},
     "output_type": "execute_result"
    }
   ],
   "source": [
    "data.isna().sum().sum()"
   ]
  },
  {
   "cell_type": "markdown",
   "metadata": {
    "collapsed": false
   },
   "source": [
    "7. Compute how many non-missing values there are in total."
   ]
  },
  {
   "cell_type": "code",
   "execution_count": 33,
   "metadata": {
    "collapsed": false
   },
   "outputs": [
    {
     "data": {
      "text/plain": "78857"
     },
     "execution_count": 33,
     "metadata": {},
     "output_type": "execute_result"
    }
   ],
   "source": [
    "data.count().sum()"
   ]
  },
  {
   "cell_type": "markdown",
   "metadata": {
    "collapsed": false
   },
   "source": [
    "8. Calculate the mean windspeeds of the windspeeds over all the locations and all the times. A single number for the entire dataset."
   ]
  },
  {
   "cell_type": "code",
   "execution_count": 34,
   "metadata": {
    "collapsed": false
   },
   "outputs": [
    {
     "data": {
      "text/plain": "10.227982360836938"
     },
     "execution_count": 34,
     "metadata": {},
     "output_type": "execute_result"
    }
   ],
   "source": [
    "data.mean().mean()"
   ]
  },
  {
   "cell_type": "markdown",
   "metadata": {
    "collapsed": false
   },
   "source": [
    "Create a DataFrame called loc_stats and calculate the min, max and mean windspeeds and standard deviations of the windspeeds at each location over all the days. A different set of numbers for each location."
   ]
  },
  {
   "cell_type": "code",
   "execution_count": 35,
   "metadata": {
    "collapsed": false
   },
   "outputs": [
    {
     "data": {
      "text/plain": "     (min, max)    max       mean       std\nRPT        0.67  35.80  12.362987  5.618413\nVAL        0.21  33.37  10.644314  5.267356\nROS        1.50  33.84  11.660526  5.008450\nKIL        0.00  28.46   6.306468  3.605811\nSHA        0.13  37.54  10.455834  4.936125\nBIR        0.00  26.16   7.092254  3.968683\nDUB        0.00  30.37   9.797343  4.977555\nCLA        0.00  31.08   8.495053  4.499449\nMUL        0.00  25.88   8.493590  4.166872\nCLO        0.04  28.21   8.707332  4.503954\nBEL        0.13  42.38  13.121007  5.835037\nMAL        0.67  42.54  15.599079  6.699794",
      "text/html": "<div>\n<style scoped>\n    .dataframe tbody tr th:only-of-type {\n        vertical-align: middle;\n    }\n\n    .dataframe tbody tr th {\n        vertical-align: top;\n    }\n\n    .dataframe thead th {\n        text-align: right;\n    }\n</style>\n<table border=\"1\" class=\"dataframe\">\n  <thead>\n    <tr style=\"text-align: right;\">\n      <th></th>\n      <th>(min, max)</th>\n      <th>max</th>\n      <th>mean</th>\n      <th>std</th>\n    </tr>\n  </thead>\n  <tbody>\n    <tr>\n      <th>RPT</th>\n      <td>0.67</td>\n      <td>35.80</td>\n      <td>12.362987</td>\n      <td>5.618413</td>\n    </tr>\n    <tr>\n      <th>VAL</th>\n      <td>0.21</td>\n      <td>33.37</td>\n      <td>10.644314</td>\n      <td>5.267356</td>\n    </tr>\n    <tr>\n      <th>ROS</th>\n      <td>1.50</td>\n      <td>33.84</td>\n      <td>11.660526</td>\n      <td>5.008450</td>\n    </tr>\n    <tr>\n      <th>KIL</th>\n      <td>0.00</td>\n      <td>28.46</td>\n      <td>6.306468</td>\n      <td>3.605811</td>\n    </tr>\n    <tr>\n      <th>SHA</th>\n      <td>0.13</td>\n      <td>37.54</td>\n      <td>10.455834</td>\n      <td>4.936125</td>\n    </tr>\n    <tr>\n      <th>BIR</th>\n      <td>0.00</td>\n      <td>26.16</td>\n      <td>7.092254</td>\n      <td>3.968683</td>\n    </tr>\n    <tr>\n      <th>DUB</th>\n      <td>0.00</td>\n      <td>30.37</td>\n      <td>9.797343</td>\n      <td>4.977555</td>\n    </tr>\n    <tr>\n      <th>CLA</th>\n      <td>0.00</td>\n      <td>31.08</td>\n      <td>8.495053</td>\n      <td>4.499449</td>\n    </tr>\n    <tr>\n      <th>MUL</th>\n      <td>0.00</td>\n      <td>25.88</td>\n      <td>8.493590</td>\n      <td>4.166872</td>\n    </tr>\n    <tr>\n      <th>CLO</th>\n      <td>0.04</td>\n      <td>28.21</td>\n      <td>8.707332</td>\n      <td>4.503954</td>\n    </tr>\n    <tr>\n      <th>BEL</th>\n      <td>0.13</td>\n      <td>42.38</td>\n      <td>13.121007</td>\n      <td>5.835037</td>\n    </tr>\n    <tr>\n      <th>MAL</th>\n      <td>0.67</td>\n      <td>42.54</td>\n      <td>15.599079</td>\n      <td>6.699794</td>\n    </tr>\n  </tbody>\n</table>\n</div>"
     },
     "execution_count": 35,
     "metadata": {},
     "output_type": "execute_result"
    }
   ],
   "source": [
    "loc_stats = pd.DataFrame()\n",
    "loc_stats[\"min\",\"max\"] = data.min()\n",
    "loc_stats[\"max\"] = data.max()\n",
    "loc_stats[\"mean\"] = data.mean()\n",
    "loc_stats[\"std\"] = data.std()\n",
    "loc_stats"
   ]
  },
  {
   "cell_type": "markdown",
   "metadata": {
    "collapsed": false
   },
   "source": [
    "Create a DataFrame called day_stats and calculate the min, max and mean windspeed and standard deviations of the windspeeds across all the locations at  each day. A different set of numbers for each day."
   ]
  },
  {
   "cell_type": "code",
   "execution_count": 36,
   "metadata": {
    "collapsed": false
   },
   "outputs": [
    {
     "data": {
      "text/plain": "             min    max       mean       std\nDate                                        \n1961-01-01  9.29  18.50  13.018182  2.808875\n1961-01-02  6.50  17.54  11.336364  3.188994\n1961-01-03  6.17  18.50  11.641818  3.681912\n1961-01-04  1.79  11.75   6.619167  3.198126\n1961-01-05  6.17  13.33  10.630000  2.445356\n...          ...    ...        ...       ...\n1978-12-27  8.08  40.08  16.708333  7.868076\n1978-12-28  5.00  41.46  15.150000  9.687857\n1978-12-29  8.71  29.58  14.890000  5.756836\n1978-12-30  9.13  28.79  15.367500  5.540437\n1978-12-31  9.59  27.29  15.402500  5.702483\n\n[6574 rows x 4 columns]",
      "text/html": "<div>\n<style scoped>\n    .dataframe tbody tr th:only-of-type {\n        vertical-align: middle;\n    }\n\n    .dataframe tbody tr th {\n        vertical-align: top;\n    }\n\n    .dataframe thead th {\n        text-align: right;\n    }\n</style>\n<table border=\"1\" class=\"dataframe\">\n  <thead>\n    <tr style=\"text-align: right;\">\n      <th></th>\n      <th>min</th>\n      <th>max</th>\n      <th>mean</th>\n      <th>std</th>\n    </tr>\n    <tr>\n      <th>Date</th>\n      <th></th>\n      <th></th>\n      <th></th>\n      <th></th>\n    </tr>\n  </thead>\n  <tbody>\n    <tr>\n      <th>1961-01-01</th>\n      <td>9.29</td>\n      <td>18.50</td>\n      <td>13.018182</td>\n      <td>2.808875</td>\n    </tr>\n    <tr>\n      <th>1961-01-02</th>\n      <td>6.50</td>\n      <td>17.54</td>\n      <td>11.336364</td>\n      <td>3.188994</td>\n    </tr>\n    <tr>\n      <th>1961-01-03</th>\n      <td>6.17</td>\n      <td>18.50</td>\n      <td>11.641818</td>\n      <td>3.681912</td>\n    </tr>\n    <tr>\n      <th>1961-01-04</th>\n      <td>1.79</td>\n      <td>11.75</td>\n      <td>6.619167</td>\n      <td>3.198126</td>\n    </tr>\n    <tr>\n      <th>1961-01-05</th>\n      <td>6.17</td>\n      <td>13.33</td>\n      <td>10.630000</td>\n      <td>2.445356</td>\n    </tr>\n    <tr>\n      <th>...</th>\n      <td>...</td>\n      <td>...</td>\n      <td>...</td>\n      <td>...</td>\n    </tr>\n    <tr>\n      <th>1978-12-27</th>\n      <td>8.08</td>\n      <td>40.08</td>\n      <td>16.708333</td>\n      <td>7.868076</td>\n    </tr>\n    <tr>\n      <th>1978-12-28</th>\n      <td>5.00</td>\n      <td>41.46</td>\n      <td>15.150000</td>\n      <td>9.687857</td>\n    </tr>\n    <tr>\n      <th>1978-12-29</th>\n      <td>8.71</td>\n      <td>29.58</td>\n      <td>14.890000</td>\n      <td>5.756836</td>\n    </tr>\n    <tr>\n      <th>1978-12-30</th>\n      <td>9.13</td>\n      <td>28.79</td>\n      <td>15.367500</td>\n      <td>5.540437</td>\n    </tr>\n    <tr>\n      <th>1978-12-31</th>\n      <td>9.59</td>\n      <td>27.29</td>\n      <td>15.402500</td>\n      <td>5.702483</td>\n    </tr>\n  </tbody>\n</table>\n<p>6574 rows × 4 columns</p>\n</div>"
     },
     "execution_count": 36,
     "metadata": {},
     "output_type": "execute_result"
    }
   ],
   "source": [
    "day_stats = pd.DataFrame()\n",
    "day_stats[\"min\"] = data.min(axis=1)\n",
    "day_stats[\"max\"] = data.max(axis=1)\n",
    "day_stats[\"mean\"] = data.mean(axis=1)\n",
    "day_stats[\"std\"] = data.std(axis=1)\n",
    "day_stats"
   ]
  },
  {
   "cell_type": "markdown",
   "metadata": {
    "collapsed": false
   },
   "source": [
    "Find the average windspeed in January for each location. Treat January 1961 and January 1962 both as January."
   ]
  },
  {
   "cell_type": "code",
   "execution_count": 37,
   "metadata": {
    "collapsed": false
   },
   "outputs": [
    {
     "data": {
      "text/plain": "RPT    14.847325\nVAL    12.914560\nROS    13.299624\nKIL     7.199498\nSHA    11.667734\nBIR     8.054839\nDUB    11.819355\nCLA     9.512047\nMUL     9.543208\nCLO    10.053566\nBEL    14.550520\nMAL    18.028763\ndtype: float64"
     },
     "execution_count": 37,
     "metadata": {},
     "output_type": "execute_result"
    }
   ],
   "source": [
    "data[data.index.month == 1].mean()"
   ]
  },
  {
   "cell_type": "markdown",
   "metadata": {
    "collapsed": false
   },
   "source": [
    "Downsample the record to a yearly frequency for each location."
   ]
  },
  {
   "cell_type": "code",
   "execution_count": 38,
   "metadata": {
    "collapsed": false
   },
   "outputs": [
    {
     "data": {
      "text/plain": "                  RPT        VAL        ROS       KIL        SHA       BIR  \\\nDate                                                                         \n1961-12-31  12.299583  10.351796  11.362369  6.958227  10.881763  7.729726   \n1962-12-31  12.246923  10.110438  11.732712  6.960440  10.657918  7.393068   \n1963-12-31  12.813452  10.836986  12.541151  7.330055  11.724110  8.434712   \n1964-12-31  12.363661  10.920164  12.104372  6.787787  11.454481  7.570874   \n1965-12-31  12.451370  11.075534  11.848767  6.858466  11.024795  7.478110   \n1966-12-31  13.461973  11.557205  12.020630  7.345726  11.805041  7.793671   \n1967-12-31  12.737151  10.990986  11.739397  7.143425  11.630740  7.368164   \n1968-12-31  11.835628  10.468197  11.409754  6.477678  10.760765  6.067322   \n1969-12-31  11.166356   9.723699  10.902000  5.767973   9.873918  6.189973   \n1970-12-31  12.600329  10.726932  11.730247  6.217178  10.567370  7.609452   \n1971-12-31  11.273123   9.095178  11.088329  5.241507   9.440329  6.097151   \n1972-12-31  12.463962  10.561311  12.058333  5.929699   9.430410  6.358825   \n1973-12-31  11.828466  10.680493  10.680493  5.547863   9.640877  6.548740   \n1974-12-31  13.643096  11.811781  12.336356  6.427041  11.110986  6.809781   \n1975-12-31  12.008575  10.293836  11.564712  5.269096   9.190082  5.668521   \n1976-12-31  11.737842  10.203115  10.761230  5.109426   8.846339  6.311038   \n1977-12-31  13.099616  11.144493  12.627836  6.073945  10.003836  8.586438   \n1978-12-31  12.504356  11.044274  11.380000  6.082356  10.167233  7.650658   \n\n                  DUB        CLA       MUL        CLO        BEL        MAL  \nDate                                                                         \n1961-12-31   9.733923   8.858788  8.647652   9.835577  13.502795  13.680773  \n1962-12-31  11.020712   8.793753  8.316822   9.676247  12.930685  14.323956  \n1963-12-31  11.075699  10.336548  8.903589  10.224438  13.638877  14.999014  \n1964-12-31  10.259153   9.467350  7.789016  10.207951  13.740546  14.910301  \n1965-12-31  10.618712   8.879918  7.907425   9.918082  12.964247  15.591644  \n1966-12-31  10.579808   8.835096  8.514438   9.768959  14.265836  16.307260  \n1967-12-31  10.652027   9.325616  8.645014   9.547425  14.774548  17.135945  \n1968-12-31   8.859180   8.255519  7.224945   7.832978  12.808634  15.017486  \n1969-12-31   8.564493   7.711397  7.924521   7.754384  12.621233  15.762904  \n1970-12-31   9.609890   8.334630  9.297616   8.289808  13.183644  16.456027  \n1971-12-31   8.385890   6.757315  7.915370   7.229753  12.208932  15.025233  \n1972-12-31   9.704508   7.680792  8.357295   7.515273  12.727377  15.028716  \n1973-12-31   8.482110   7.614274  8.245534   7.812411  12.169699  15.441096  \n1974-12-31  10.084603   9.896986  9.331753   8.736356  13.252959  16.947671  \n1975-12-31   8.562603   7.843836  8.797945   7.382822  12.631671  15.307863  \n1976-12-31   9.149126   7.146202  8.883716   7.883087  12.332377  15.471448  \n1977-12-31  11.523205   8.378384  9.098192   8.821616  13.459068  16.590849  \n1978-12-31   9.489342   8.800466  9.089753   8.301699  12.967397  16.771370  ",
      "text/html": "<div>\n<style scoped>\n    .dataframe tbody tr th:only-of-type {\n        vertical-align: middle;\n    }\n\n    .dataframe tbody tr th {\n        vertical-align: top;\n    }\n\n    .dataframe thead th {\n        text-align: right;\n    }\n</style>\n<table border=\"1\" class=\"dataframe\">\n  <thead>\n    <tr style=\"text-align: right;\">\n      <th></th>\n      <th>RPT</th>\n      <th>VAL</th>\n      <th>ROS</th>\n      <th>KIL</th>\n      <th>SHA</th>\n      <th>BIR</th>\n      <th>DUB</th>\n      <th>CLA</th>\n      <th>MUL</th>\n      <th>CLO</th>\n      <th>BEL</th>\n      <th>MAL</th>\n    </tr>\n    <tr>\n      <th>Date</th>\n      <th></th>\n      <th></th>\n      <th></th>\n      <th></th>\n      <th></th>\n      <th></th>\n      <th></th>\n      <th></th>\n      <th></th>\n      <th></th>\n      <th></th>\n      <th></th>\n    </tr>\n  </thead>\n  <tbody>\n    <tr>\n      <th>1961-12-31</th>\n      <td>12.299583</td>\n      <td>10.351796</td>\n      <td>11.362369</td>\n      <td>6.958227</td>\n      <td>10.881763</td>\n      <td>7.729726</td>\n      <td>9.733923</td>\n      <td>8.858788</td>\n      <td>8.647652</td>\n      <td>9.835577</td>\n      <td>13.502795</td>\n      <td>13.680773</td>\n    </tr>\n    <tr>\n      <th>1962-12-31</th>\n      <td>12.246923</td>\n      <td>10.110438</td>\n      <td>11.732712</td>\n      <td>6.960440</td>\n      <td>10.657918</td>\n      <td>7.393068</td>\n      <td>11.020712</td>\n      <td>8.793753</td>\n      <td>8.316822</td>\n      <td>9.676247</td>\n      <td>12.930685</td>\n      <td>14.323956</td>\n    </tr>\n    <tr>\n      <th>1963-12-31</th>\n      <td>12.813452</td>\n      <td>10.836986</td>\n      <td>12.541151</td>\n      <td>7.330055</td>\n      <td>11.724110</td>\n      <td>8.434712</td>\n      <td>11.075699</td>\n      <td>10.336548</td>\n      <td>8.903589</td>\n      <td>10.224438</td>\n      <td>13.638877</td>\n      <td>14.999014</td>\n    </tr>\n    <tr>\n      <th>1964-12-31</th>\n      <td>12.363661</td>\n      <td>10.920164</td>\n      <td>12.104372</td>\n      <td>6.787787</td>\n      <td>11.454481</td>\n      <td>7.570874</td>\n      <td>10.259153</td>\n      <td>9.467350</td>\n      <td>7.789016</td>\n      <td>10.207951</td>\n      <td>13.740546</td>\n      <td>14.910301</td>\n    </tr>\n    <tr>\n      <th>1965-12-31</th>\n      <td>12.451370</td>\n      <td>11.075534</td>\n      <td>11.848767</td>\n      <td>6.858466</td>\n      <td>11.024795</td>\n      <td>7.478110</td>\n      <td>10.618712</td>\n      <td>8.879918</td>\n      <td>7.907425</td>\n      <td>9.918082</td>\n      <td>12.964247</td>\n      <td>15.591644</td>\n    </tr>\n    <tr>\n      <th>1966-12-31</th>\n      <td>13.461973</td>\n      <td>11.557205</td>\n      <td>12.020630</td>\n      <td>7.345726</td>\n      <td>11.805041</td>\n      <td>7.793671</td>\n      <td>10.579808</td>\n      <td>8.835096</td>\n      <td>8.514438</td>\n      <td>9.768959</td>\n      <td>14.265836</td>\n      <td>16.307260</td>\n    </tr>\n    <tr>\n      <th>1967-12-31</th>\n      <td>12.737151</td>\n      <td>10.990986</td>\n      <td>11.739397</td>\n      <td>7.143425</td>\n      <td>11.630740</td>\n      <td>7.368164</td>\n      <td>10.652027</td>\n      <td>9.325616</td>\n      <td>8.645014</td>\n      <td>9.547425</td>\n      <td>14.774548</td>\n      <td>17.135945</td>\n    </tr>\n    <tr>\n      <th>1968-12-31</th>\n      <td>11.835628</td>\n      <td>10.468197</td>\n      <td>11.409754</td>\n      <td>6.477678</td>\n      <td>10.760765</td>\n      <td>6.067322</td>\n      <td>8.859180</td>\n      <td>8.255519</td>\n      <td>7.224945</td>\n      <td>7.832978</td>\n      <td>12.808634</td>\n      <td>15.017486</td>\n    </tr>\n    <tr>\n      <th>1969-12-31</th>\n      <td>11.166356</td>\n      <td>9.723699</td>\n      <td>10.902000</td>\n      <td>5.767973</td>\n      <td>9.873918</td>\n      <td>6.189973</td>\n      <td>8.564493</td>\n      <td>7.711397</td>\n      <td>7.924521</td>\n      <td>7.754384</td>\n      <td>12.621233</td>\n      <td>15.762904</td>\n    </tr>\n    <tr>\n      <th>1970-12-31</th>\n      <td>12.600329</td>\n      <td>10.726932</td>\n      <td>11.730247</td>\n      <td>6.217178</td>\n      <td>10.567370</td>\n      <td>7.609452</td>\n      <td>9.609890</td>\n      <td>8.334630</td>\n      <td>9.297616</td>\n      <td>8.289808</td>\n      <td>13.183644</td>\n      <td>16.456027</td>\n    </tr>\n    <tr>\n      <th>1971-12-31</th>\n      <td>11.273123</td>\n      <td>9.095178</td>\n      <td>11.088329</td>\n      <td>5.241507</td>\n      <td>9.440329</td>\n      <td>6.097151</td>\n      <td>8.385890</td>\n      <td>6.757315</td>\n      <td>7.915370</td>\n      <td>7.229753</td>\n      <td>12.208932</td>\n      <td>15.025233</td>\n    </tr>\n    <tr>\n      <th>1972-12-31</th>\n      <td>12.463962</td>\n      <td>10.561311</td>\n      <td>12.058333</td>\n      <td>5.929699</td>\n      <td>9.430410</td>\n      <td>6.358825</td>\n      <td>9.704508</td>\n      <td>7.680792</td>\n      <td>8.357295</td>\n      <td>7.515273</td>\n      <td>12.727377</td>\n      <td>15.028716</td>\n    </tr>\n    <tr>\n      <th>1973-12-31</th>\n      <td>11.828466</td>\n      <td>10.680493</td>\n      <td>10.680493</td>\n      <td>5.547863</td>\n      <td>9.640877</td>\n      <td>6.548740</td>\n      <td>8.482110</td>\n      <td>7.614274</td>\n      <td>8.245534</td>\n      <td>7.812411</td>\n      <td>12.169699</td>\n      <td>15.441096</td>\n    </tr>\n    <tr>\n      <th>1974-12-31</th>\n      <td>13.643096</td>\n      <td>11.811781</td>\n      <td>12.336356</td>\n      <td>6.427041</td>\n      <td>11.110986</td>\n      <td>6.809781</td>\n      <td>10.084603</td>\n      <td>9.896986</td>\n      <td>9.331753</td>\n      <td>8.736356</td>\n      <td>13.252959</td>\n      <td>16.947671</td>\n    </tr>\n    <tr>\n      <th>1975-12-31</th>\n      <td>12.008575</td>\n      <td>10.293836</td>\n      <td>11.564712</td>\n      <td>5.269096</td>\n      <td>9.190082</td>\n      <td>5.668521</td>\n      <td>8.562603</td>\n      <td>7.843836</td>\n      <td>8.797945</td>\n      <td>7.382822</td>\n      <td>12.631671</td>\n      <td>15.307863</td>\n    </tr>\n    <tr>\n      <th>1976-12-31</th>\n      <td>11.737842</td>\n      <td>10.203115</td>\n      <td>10.761230</td>\n      <td>5.109426</td>\n      <td>8.846339</td>\n      <td>6.311038</td>\n      <td>9.149126</td>\n      <td>7.146202</td>\n      <td>8.883716</td>\n      <td>7.883087</td>\n      <td>12.332377</td>\n      <td>15.471448</td>\n    </tr>\n    <tr>\n      <th>1977-12-31</th>\n      <td>13.099616</td>\n      <td>11.144493</td>\n      <td>12.627836</td>\n      <td>6.073945</td>\n      <td>10.003836</td>\n      <td>8.586438</td>\n      <td>11.523205</td>\n      <td>8.378384</td>\n      <td>9.098192</td>\n      <td>8.821616</td>\n      <td>13.459068</td>\n      <td>16.590849</td>\n    </tr>\n    <tr>\n      <th>1978-12-31</th>\n      <td>12.504356</td>\n      <td>11.044274</td>\n      <td>11.380000</td>\n      <td>6.082356</td>\n      <td>10.167233</td>\n      <td>7.650658</td>\n      <td>9.489342</td>\n      <td>8.800466</td>\n      <td>9.089753</td>\n      <td>8.301699</td>\n      <td>12.967397</td>\n      <td>16.771370</td>\n    </tr>\n  </tbody>\n</table>\n</div>"
     },
     "execution_count": 38,
     "metadata": {},
     "output_type": "execute_result"
    }
   ],
   "source": [
    "data.resample(\"Y\").mean()"
   ]
  },
  {
   "cell_type": "markdown",
   "metadata": {
    "collapsed": false
   },
   "source": [
    "Downsample the record to a monthly frequency for each location."
   ]
  },
  {
   "cell_type": "code",
   "execution_count": 39,
   "metadata": {
    "collapsed": false
   },
   "outputs": [
    {
     "data": {
      "text/plain": "                  RPT        VAL        ROS       KIL        SHA        BIR  \\\nDate                                                                          \n1961-01-31  14.841333  11.988333  13.431613  7.736774  11.072759   8.588065   \n1961-02-28  16.269286  14.975357  14.441481  9.230741  13.852143  10.937500   \n1961-03-31  10.890000  11.296452  10.752903  7.284000  10.509355   8.866774   \n1961-04-30  10.722667   9.427667   9.998000  5.830667   8.435000   6.495000   \n1961-05-31   9.860968   8.850000  10.818065  5.905333   9.490323   6.574839   \n...               ...        ...        ...       ...        ...        ...   \n1978-08-31   9.645161   8.259355   9.032258  4.502903   7.368065   5.935161   \n1978-09-30  10.913667  10.895000  10.635000  5.725000  10.372000   9.278333   \n1978-10-31   9.897742   8.670968   9.295806  4.721290   8.525161   6.774194   \n1978-11-30  16.151667  14.802667  13.508000  7.317333  11.475000   8.743000   \n1978-12-31  16.175484  13.748065  15.635161  7.094839  11.398710   9.241613   \n\n                  DUB        CLA        MUL        CLO        BEL        MAL  \nDate                                                                          \n1961-01-31  11.184839   9.245333   9.085806  10.107419  13.880968  14.703226  \n1961-02-28  11.890714  11.846071  11.821429  12.714286  18.583214  15.411786  \n1961-03-31   9.644194   9.829677  10.294138  11.251935  16.410968  15.720000  \n1961-04-30   6.925333   7.094667   7.342333   7.237000  11.147333  10.278333  \n1961-05-31   7.604000   8.177097   8.039355   8.499355  11.900323  12.011613  \n...               ...        ...        ...        ...        ...        ...  \n1978-08-31   5.650323   5.417742   7.241290   5.536774  10.466774  12.054194  \n1978-09-30  10.790333   9.583000  10.069333   8.939000  15.680333  19.391333  \n1978-10-31   8.115484   7.337742   8.297742   8.243871  13.776774  17.150000  \n1978-11-30  11.492333   9.657333  10.701333  10.676000  17.404667  20.723000  \n1978-12-31  12.077419  10.194839  10.616774  11.028710  13.859677  21.371613  \n\n[216 rows x 12 columns]",
      "text/html": "<div>\n<style scoped>\n    .dataframe tbody tr th:only-of-type {\n        vertical-align: middle;\n    }\n\n    .dataframe tbody tr th {\n        vertical-align: top;\n    }\n\n    .dataframe thead th {\n        text-align: right;\n    }\n</style>\n<table border=\"1\" class=\"dataframe\">\n  <thead>\n    <tr style=\"text-align: right;\">\n      <th></th>\n      <th>RPT</th>\n      <th>VAL</th>\n      <th>ROS</th>\n      <th>KIL</th>\n      <th>SHA</th>\n      <th>BIR</th>\n      <th>DUB</th>\n      <th>CLA</th>\n      <th>MUL</th>\n      <th>CLO</th>\n      <th>BEL</th>\n      <th>MAL</th>\n    </tr>\n    <tr>\n      <th>Date</th>\n      <th></th>\n      <th></th>\n      <th></th>\n      <th></th>\n      <th></th>\n      <th></th>\n      <th></th>\n      <th></th>\n      <th></th>\n      <th></th>\n      <th></th>\n      <th></th>\n    </tr>\n  </thead>\n  <tbody>\n    <tr>\n      <th>1961-01-31</th>\n      <td>14.841333</td>\n      <td>11.988333</td>\n      <td>13.431613</td>\n      <td>7.736774</td>\n      <td>11.072759</td>\n      <td>8.588065</td>\n      <td>11.184839</td>\n      <td>9.245333</td>\n      <td>9.085806</td>\n      <td>10.107419</td>\n      <td>13.880968</td>\n      <td>14.703226</td>\n    </tr>\n    <tr>\n      <th>1961-02-28</th>\n      <td>16.269286</td>\n      <td>14.975357</td>\n      <td>14.441481</td>\n      <td>9.230741</td>\n      <td>13.852143</td>\n      <td>10.937500</td>\n      <td>11.890714</td>\n      <td>11.846071</td>\n      <td>11.821429</td>\n      <td>12.714286</td>\n      <td>18.583214</td>\n      <td>15.411786</td>\n    </tr>\n    <tr>\n      <th>1961-03-31</th>\n      <td>10.890000</td>\n      <td>11.296452</td>\n      <td>10.752903</td>\n      <td>7.284000</td>\n      <td>10.509355</td>\n      <td>8.866774</td>\n      <td>9.644194</td>\n      <td>9.829677</td>\n      <td>10.294138</td>\n      <td>11.251935</td>\n      <td>16.410968</td>\n      <td>15.720000</td>\n    </tr>\n    <tr>\n      <th>1961-04-30</th>\n      <td>10.722667</td>\n      <td>9.427667</td>\n      <td>9.998000</td>\n      <td>5.830667</td>\n      <td>8.435000</td>\n      <td>6.495000</td>\n      <td>6.925333</td>\n      <td>7.094667</td>\n      <td>7.342333</td>\n      <td>7.237000</td>\n      <td>11.147333</td>\n      <td>10.278333</td>\n    </tr>\n    <tr>\n      <th>1961-05-31</th>\n      <td>9.860968</td>\n      <td>8.850000</td>\n      <td>10.818065</td>\n      <td>5.905333</td>\n      <td>9.490323</td>\n      <td>6.574839</td>\n      <td>7.604000</td>\n      <td>8.177097</td>\n      <td>8.039355</td>\n      <td>8.499355</td>\n      <td>11.900323</td>\n      <td>12.011613</td>\n    </tr>\n    <tr>\n      <th>...</th>\n      <td>...</td>\n      <td>...</td>\n      <td>...</td>\n      <td>...</td>\n      <td>...</td>\n      <td>...</td>\n      <td>...</td>\n      <td>...</td>\n      <td>...</td>\n      <td>...</td>\n      <td>...</td>\n      <td>...</td>\n    </tr>\n    <tr>\n      <th>1978-08-31</th>\n      <td>9.645161</td>\n      <td>8.259355</td>\n      <td>9.032258</td>\n      <td>4.502903</td>\n      <td>7.368065</td>\n      <td>5.935161</td>\n      <td>5.650323</td>\n      <td>5.417742</td>\n      <td>7.241290</td>\n      <td>5.536774</td>\n      <td>10.466774</td>\n      <td>12.054194</td>\n    </tr>\n    <tr>\n      <th>1978-09-30</th>\n      <td>10.913667</td>\n      <td>10.895000</td>\n      <td>10.635000</td>\n      <td>5.725000</td>\n      <td>10.372000</td>\n      <td>9.278333</td>\n      <td>10.790333</td>\n      <td>9.583000</td>\n      <td>10.069333</td>\n      <td>8.939000</td>\n      <td>15.680333</td>\n      <td>19.391333</td>\n    </tr>\n    <tr>\n      <th>1978-10-31</th>\n      <td>9.897742</td>\n      <td>8.670968</td>\n      <td>9.295806</td>\n      <td>4.721290</td>\n      <td>8.525161</td>\n      <td>6.774194</td>\n      <td>8.115484</td>\n      <td>7.337742</td>\n      <td>8.297742</td>\n      <td>8.243871</td>\n      <td>13.776774</td>\n      <td>17.150000</td>\n    </tr>\n    <tr>\n      <th>1978-11-30</th>\n      <td>16.151667</td>\n      <td>14.802667</td>\n      <td>13.508000</td>\n      <td>7.317333</td>\n      <td>11.475000</td>\n      <td>8.743000</td>\n      <td>11.492333</td>\n      <td>9.657333</td>\n      <td>10.701333</td>\n      <td>10.676000</td>\n      <td>17.404667</td>\n      <td>20.723000</td>\n    </tr>\n    <tr>\n      <th>1978-12-31</th>\n      <td>16.175484</td>\n      <td>13.748065</td>\n      <td>15.635161</td>\n      <td>7.094839</td>\n      <td>11.398710</td>\n      <td>9.241613</td>\n      <td>12.077419</td>\n      <td>10.194839</td>\n      <td>10.616774</td>\n      <td>11.028710</td>\n      <td>13.859677</td>\n      <td>21.371613</td>\n    </tr>\n  </tbody>\n</table>\n<p>216 rows × 12 columns</p>\n</div>"
     },
     "execution_count": 39,
     "metadata": {},
     "output_type": "execute_result"
    }
   ],
   "source": [
    "data.resample(\"M\").mean()"
   ]
  },
  {
   "cell_type": "markdown",
   "metadata": {
    "collapsed": false
   },
   "source": [
    "Downsample the record to a weekly frequency for each location."
   ]
  },
  {
   "cell_type": "code",
   "execution_count": 40,
   "metadata": {
    "collapsed": false
   },
   "outputs": [
    {
     "data": {
      "text/plain": "                  RPT        VAL        ROS        KIL        SHA        BIR  \\\nDate                                                                           \n1961-01-01  15.040000  14.960000  13.170000   9.290000        NaN   9.870000   \n1961-01-08  13.541429  11.486667  10.487143   6.417143   9.474286   6.435714   \n1961-01-15  12.468571   8.967143  11.958571   4.630000   7.351429   5.072857   \n1961-01-22  13.204286   9.862857  12.982857   6.328571   8.966667   7.417143   \n1961-01-29  19.880000  16.141429  18.225714  12.720000  17.432857  14.828571   \n...               ...        ...        ...        ...        ...        ...   \n1978-12-03  14.934286  11.232857  13.941429   5.565714  10.215714   8.618571   \n1978-12-10  20.740000  19.190000  17.034286   9.777143  15.287143  12.774286   \n1978-12-17  16.758571  14.692857  14.987143   6.917143  11.397143   7.272857   \n1978-12-24  11.155714   8.008571  13.172857   4.004286   7.825714   6.290000   \n1978-12-31  14.951429  11.801429  16.035714   6.507143   9.660000   8.620000   \n\n                  DUB        CLA        MUL        CLO        BEL        MAL  \nDate                                                                          \n1961-01-01  13.670000  10.250000  10.830000  12.580000  18.500000  15.040000  \n1961-01-08  11.061429   6.616667   8.434286   8.497143  12.481429  13.238571  \n1961-01-15   7.535714   6.820000   5.712857   7.571429  11.125714  11.024286  \n1961-01-22   9.257143   7.875714   7.145714   8.124286   9.821429  11.434286  \n1961-01-29  15.528571  15.160000  14.480000  15.640000  20.930000  22.530000  \n...               ...        ...        ...        ...        ...        ...  \n1978-12-03   9.642857   7.685714   9.011429   9.547143  11.835714  18.728571  \n1978-12-10  14.437143  12.488571  13.870000  14.082857  18.517143  23.061429  \n1978-12-17  10.208571   7.967143   9.168571   8.565714  11.102857  15.562857  \n1978-12-24   7.798571   8.667143   7.151429   8.072857  11.845714  18.977143  \n1978-12-31  13.708571  10.477143  10.868571  11.471429  12.947143  26.844286  \n\n[940 rows x 12 columns]",
      "text/html": "<div>\n<style scoped>\n    .dataframe tbody tr th:only-of-type {\n        vertical-align: middle;\n    }\n\n    .dataframe tbody tr th {\n        vertical-align: top;\n    }\n\n    .dataframe thead th {\n        text-align: right;\n    }\n</style>\n<table border=\"1\" class=\"dataframe\">\n  <thead>\n    <tr style=\"text-align: right;\">\n      <th></th>\n      <th>RPT</th>\n      <th>VAL</th>\n      <th>ROS</th>\n      <th>KIL</th>\n      <th>SHA</th>\n      <th>BIR</th>\n      <th>DUB</th>\n      <th>CLA</th>\n      <th>MUL</th>\n      <th>CLO</th>\n      <th>BEL</th>\n      <th>MAL</th>\n    </tr>\n    <tr>\n      <th>Date</th>\n      <th></th>\n      <th></th>\n      <th></th>\n      <th></th>\n      <th></th>\n      <th></th>\n      <th></th>\n      <th></th>\n      <th></th>\n      <th></th>\n      <th></th>\n      <th></th>\n    </tr>\n  </thead>\n  <tbody>\n    <tr>\n      <th>1961-01-01</th>\n      <td>15.040000</td>\n      <td>14.960000</td>\n      <td>13.170000</td>\n      <td>9.290000</td>\n      <td>NaN</td>\n      <td>9.870000</td>\n      <td>13.670000</td>\n      <td>10.250000</td>\n      <td>10.830000</td>\n      <td>12.580000</td>\n      <td>18.500000</td>\n      <td>15.040000</td>\n    </tr>\n    <tr>\n      <th>1961-01-08</th>\n      <td>13.541429</td>\n      <td>11.486667</td>\n      <td>10.487143</td>\n      <td>6.417143</td>\n      <td>9.474286</td>\n      <td>6.435714</td>\n      <td>11.061429</td>\n      <td>6.616667</td>\n      <td>8.434286</td>\n      <td>8.497143</td>\n      <td>12.481429</td>\n      <td>13.238571</td>\n    </tr>\n    <tr>\n      <th>1961-01-15</th>\n      <td>12.468571</td>\n      <td>8.967143</td>\n      <td>11.958571</td>\n      <td>4.630000</td>\n      <td>7.351429</td>\n      <td>5.072857</td>\n      <td>7.535714</td>\n      <td>6.820000</td>\n      <td>5.712857</td>\n      <td>7.571429</td>\n      <td>11.125714</td>\n      <td>11.024286</td>\n    </tr>\n    <tr>\n      <th>1961-01-22</th>\n      <td>13.204286</td>\n      <td>9.862857</td>\n      <td>12.982857</td>\n      <td>6.328571</td>\n      <td>8.966667</td>\n      <td>7.417143</td>\n      <td>9.257143</td>\n      <td>7.875714</td>\n      <td>7.145714</td>\n      <td>8.124286</td>\n      <td>9.821429</td>\n      <td>11.434286</td>\n    </tr>\n    <tr>\n      <th>1961-01-29</th>\n      <td>19.880000</td>\n      <td>16.141429</td>\n      <td>18.225714</td>\n      <td>12.720000</td>\n      <td>17.432857</td>\n      <td>14.828571</td>\n      <td>15.528571</td>\n      <td>15.160000</td>\n      <td>14.480000</td>\n      <td>15.640000</td>\n      <td>20.930000</td>\n      <td>22.530000</td>\n    </tr>\n    <tr>\n      <th>...</th>\n      <td>...</td>\n      <td>...</td>\n      <td>...</td>\n      <td>...</td>\n      <td>...</td>\n      <td>...</td>\n      <td>...</td>\n      <td>...</td>\n      <td>...</td>\n      <td>...</td>\n      <td>...</td>\n      <td>...</td>\n    </tr>\n    <tr>\n      <th>1978-12-03</th>\n      <td>14.934286</td>\n      <td>11.232857</td>\n      <td>13.941429</td>\n      <td>5.565714</td>\n      <td>10.215714</td>\n      <td>8.618571</td>\n      <td>9.642857</td>\n      <td>7.685714</td>\n      <td>9.011429</td>\n      <td>9.547143</td>\n      <td>11.835714</td>\n      <td>18.728571</td>\n    </tr>\n    <tr>\n      <th>1978-12-10</th>\n      <td>20.740000</td>\n      <td>19.190000</td>\n      <td>17.034286</td>\n      <td>9.777143</td>\n      <td>15.287143</td>\n      <td>12.774286</td>\n      <td>14.437143</td>\n      <td>12.488571</td>\n      <td>13.870000</td>\n      <td>14.082857</td>\n      <td>18.517143</td>\n      <td>23.061429</td>\n    </tr>\n    <tr>\n      <th>1978-12-17</th>\n      <td>16.758571</td>\n      <td>14.692857</td>\n      <td>14.987143</td>\n      <td>6.917143</td>\n      <td>11.397143</td>\n      <td>7.272857</td>\n      <td>10.208571</td>\n      <td>7.967143</td>\n      <td>9.168571</td>\n      <td>8.565714</td>\n      <td>11.102857</td>\n      <td>15.562857</td>\n    </tr>\n    <tr>\n      <th>1978-12-24</th>\n      <td>11.155714</td>\n      <td>8.008571</td>\n      <td>13.172857</td>\n      <td>4.004286</td>\n      <td>7.825714</td>\n      <td>6.290000</td>\n      <td>7.798571</td>\n      <td>8.667143</td>\n      <td>7.151429</td>\n      <td>8.072857</td>\n      <td>11.845714</td>\n      <td>18.977143</td>\n    </tr>\n    <tr>\n      <th>1978-12-31</th>\n      <td>14.951429</td>\n      <td>11.801429</td>\n      <td>16.035714</td>\n      <td>6.507143</td>\n      <td>9.660000</td>\n      <td>8.620000</td>\n      <td>13.708571</td>\n      <td>10.477143</td>\n      <td>10.868571</td>\n      <td>11.471429</td>\n      <td>12.947143</td>\n      <td>26.844286</td>\n    </tr>\n  </tbody>\n</table>\n<p>940 rows × 12 columns</p>\n</div>"
     },
     "execution_count": 40,
     "metadata": {},
     "output_type": "execute_result"
    }
   ],
   "source": [
    "data.resample(\"W\").mean()"
   ]
  },
  {
   "cell_type": "markdown",
   "metadata": {
    "collapsed": false
   },
   "source": [
    "Calculate the min, max and mean windspeeds and standard deviations of the windspeeds across all locations for each week (assume that the first week starts on January 2 1961) for the first 52 weeks."
   ]
  },
  {
   "cell_type": "code",
   "execution_count": 41,
   "metadata": {
    "collapsed": false
   },
   "outputs": [
    {
     "data": {
      "text/plain": "              RPT         VAL         ROS         KIL         SHA         BIR  \\\ncount  940.000000  940.000000  940.000000  940.000000  939.000000  940.000000   \nmean    12.365304   10.647725   11.661255    6.309334   10.455607    7.094787   \nstd      3.466600    3.372501    2.840361    2.186432    3.146715    2.556633   \nmin      3.874286    2.452857    4.901429    1.447143    2.775714    1.382857   \n25%      9.884286    8.277857    9.613929    4.742857    8.248571    5.211071   \n50%     12.291429   10.486429   11.490000    6.165714   10.254286    6.933571   \n75%     14.547143   12.757857   13.457143    7.584286   12.627143    8.842500   \nmax     24.010000   23.715714   21.384286   14.517143   22.897143   16.010000   \n\n              DUB         CLA         MUL         CLO         BEL         MAL  \ncount  940.000000  940.000000  940.000000  940.000000  940.000000  940.000000  \nmean     9.801271    8.496123    8.496452    8.710639   13.125912   15.597171  \nstd      3.308180    2.853029    2.638349    2.924546    3.757189    4.468526  \nmin      2.471429    2.284286    2.262857    1.571429    3.661429    5.124286  \n25%      7.432500    6.470000    6.589286    6.530000   10.346429   12.269286  \n50%      9.603571    8.358571    8.394286    8.490000   12.846429   15.330714  \n75%     11.942143   10.457500   10.108571   10.699643   15.513571   18.683929  \nmax     20.474286   17.861429   17.460000   17.932857   26.617143   30.374286  ",
      "text/html": "<div>\n<style scoped>\n    .dataframe tbody tr th:only-of-type {\n        vertical-align: middle;\n    }\n\n    .dataframe tbody tr th {\n        vertical-align: top;\n    }\n\n    .dataframe thead th {\n        text-align: right;\n    }\n</style>\n<table border=\"1\" class=\"dataframe\">\n  <thead>\n    <tr style=\"text-align: right;\">\n      <th></th>\n      <th>RPT</th>\n      <th>VAL</th>\n      <th>ROS</th>\n      <th>KIL</th>\n      <th>SHA</th>\n      <th>BIR</th>\n      <th>DUB</th>\n      <th>CLA</th>\n      <th>MUL</th>\n      <th>CLO</th>\n      <th>BEL</th>\n      <th>MAL</th>\n    </tr>\n  </thead>\n  <tbody>\n    <tr>\n      <th>count</th>\n      <td>940.000000</td>\n      <td>940.000000</td>\n      <td>940.000000</td>\n      <td>940.000000</td>\n      <td>939.000000</td>\n      <td>940.000000</td>\n      <td>940.000000</td>\n      <td>940.000000</td>\n      <td>940.000000</td>\n      <td>940.000000</td>\n      <td>940.000000</td>\n      <td>940.000000</td>\n    </tr>\n    <tr>\n      <th>mean</th>\n      <td>12.365304</td>\n      <td>10.647725</td>\n      <td>11.661255</td>\n      <td>6.309334</td>\n      <td>10.455607</td>\n      <td>7.094787</td>\n      <td>9.801271</td>\n      <td>8.496123</td>\n      <td>8.496452</td>\n      <td>8.710639</td>\n      <td>13.125912</td>\n      <td>15.597171</td>\n    </tr>\n    <tr>\n      <th>std</th>\n      <td>3.466600</td>\n      <td>3.372501</td>\n      <td>2.840361</td>\n      <td>2.186432</td>\n      <td>3.146715</td>\n      <td>2.556633</td>\n      <td>3.308180</td>\n      <td>2.853029</td>\n      <td>2.638349</td>\n      <td>2.924546</td>\n      <td>3.757189</td>\n      <td>4.468526</td>\n    </tr>\n    <tr>\n      <th>min</th>\n      <td>3.874286</td>\n      <td>2.452857</td>\n      <td>4.901429</td>\n      <td>1.447143</td>\n      <td>2.775714</td>\n      <td>1.382857</td>\n      <td>2.471429</td>\n      <td>2.284286</td>\n      <td>2.262857</td>\n      <td>1.571429</td>\n      <td>3.661429</td>\n      <td>5.124286</td>\n    </tr>\n    <tr>\n      <th>25%</th>\n      <td>9.884286</td>\n      <td>8.277857</td>\n      <td>9.613929</td>\n      <td>4.742857</td>\n      <td>8.248571</td>\n      <td>5.211071</td>\n      <td>7.432500</td>\n      <td>6.470000</td>\n      <td>6.589286</td>\n      <td>6.530000</td>\n      <td>10.346429</td>\n      <td>12.269286</td>\n    </tr>\n    <tr>\n      <th>50%</th>\n      <td>12.291429</td>\n      <td>10.486429</td>\n      <td>11.490000</td>\n      <td>6.165714</td>\n      <td>10.254286</td>\n      <td>6.933571</td>\n      <td>9.603571</td>\n      <td>8.358571</td>\n      <td>8.394286</td>\n      <td>8.490000</td>\n      <td>12.846429</td>\n      <td>15.330714</td>\n    </tr>\n    <tr>\n      <th>75%</th>\n      <td>14.547143</td>\n      <td>12.757857</td>\n      <td>13.457143</td>\n      <td>7.584286</td>\n      <td>12.627143</td>\n      <td>8.842500</td>\n      <td>11.942143</td>\n      <td>10.457500</td>\n      <td>10.108571</td>\n      <td>10.699643</td>\n      <td>15.513571</td>\n      <td>18.683929</td>\n    </tr>\n    <tr>\n      <th>max</th>\n      <td>24.010000</td>\n      <td>23.715714</td>\n      <td>21.384286</td>\n      <td>14.517143</td>\n      <td>22.897143</td>\n      <td>16.010000</td>\n      <td>20.474286</td>\n      <td>17.861429</td>\n      <td>17.460000</td>\n      <td>17.932857</td>\n      <td>26.617143</td>\n      <td>30.374286</td>\n    </tr>\n  </tbody>\n</table>\n</div>"
     },
     "execution_count": 41,
     "metadata": {},
     "output_type": "execute_result"
    }
   ],
   "source": [
    "def resample_data(data_values, frequency):\n",
    "    return data_values.resample(frequency).mean()\n",
    "\n",
    "def describe_data(data_values):\n",
    "    return data_values.apply(lambda x: x.describe())\n",
    "\n",
    "def resample_and_describe(data_values, frequency):\n",
    "    return describe_data(resample_data(data_values, frequency))\n",
    "\n",
    "resample_and_describe(data, 'W')"
   ]
  },
  {
   "cell_type": "markdown",
   "metadata": {
    "collapsed": false
   },
   "source": []
  },
  {
   "cell_type": "markdown",
   "metadata": {
    "collapsed": false
   },
   "source": [
    "# Question 5"
   ]
  },
  {
   "cell_type": "markdown",
   "metadata": {
    "collapsed": false
   },
   "source": [
    "Import the necessary libraries"
   ]
  },
  {
   "cell_type": "code",
   "execution_count": 42,
   "metadata": {
    "collapsed": false
   },
   "outputs": [],
   "source": [
    "import pandas as pd\n",
    "import numpy as np"
   ]
  },
  {
   "cell_type": "markdown",
   "metadata": {
    "collapsed": false
   },
   "source": [
    "Import the dataset & Assign it to a variable called chipo."
   ]
  },
  {
   "cell_type": "code",
   "execution_count": 43,
   "metadata": {
    "collapsed": false
   },
   "outputs": [
    {
     "data": {
      "text/plain": "      order_id  quantity                              item_name  \\\n0            1         1           Chips and Fresh Tomato Salsa   \n1            1         1                                   Izze   \n2            1         1                       Nantucket Nectar   \n3            1         1  Chips and Tomatillo-Green Chili Salsa   \n4            2         2                           Chicken Bowl   \n...        ...       ...                                    ...   \n4617      1833         1                          Steak Burrito   \n4618      1833         1                          Steak Burrito   \n4619      1834         1                     Chicken Salad Bowl   \n4620      1834         1                     Chicken Salad Bowl   \n4621      1834         1                     Chicken Salad Bowl   \n\n                                     choice_description item_price  \n0                                                   NaN     $2.39   \n1                                          [Clementine]     $3.39   \n2                                               [Apple]     $3.39   \n3                                                   NaN     $2.39   \n4     [Tomatillo-Red Chili Salsa (Hot), [Black Beans...    $16.98   \n...                                                 ...        ...  \n4617  [Fresh Tomato Salsa, [Rice, Black Beans, Sour ...    $11.75   \n4618  [Fresh Tomato Salsa, [Rice, Sour Cream, Cheese...    $11.75   \n4619  [Fresh Tomato Salsa, [Fajita Vegetables, Pinto...    $11.25   \n4620  [Fresh Tomato Salsa, [Fajita Vegetables, Lettu...     $8.75   \n4621  [Fresh Tomato Salsa, [Fajita Vegetables, Pinto...     $8.75   \n\n[4622 rows x 5 columns]",
      "text/html": "<div>\n<style scoped>\n    .dataframe tbody tr th:only-of-type {\n        vertical-align: middle;\n    }\n\n    .dataframe tbody tr th {\n        vertical-align: top;\n    }\n\n    .dataframe thead th {\n        text-align: right;\n    }\n</style>\n<table border=\"1\" class=\"dataframe\">\n  <thead>\n    <tr style=\"text-align: right;\">\n      <th></th>\n      <th>order_id</th>\n      <th>quantity</th>\n      <th>item_name</th>\n      <th>choice_description</th>\n      <th>item_price</th>\n    </tr>\n  </thead>\n  <tbody>\n    <tr>\n      <th>0</th>\n      <td>1</td>\n      <td>1</td>\n      <td>Chips and Fresh Tomato Salsa</td>\n      <td>NaN</td>\n      <td>$2.39</td>\n    </tr>\n    <tr>\n      <th>1</th>\n      <td>1</td>\n      <td>1</td>\n      <td>Izze</td>\n      <td>[Clementine]</td>\n      <td>$3.39</td>\n    </tr>\n    <tr>\n      <th>2</th>\n      <td>1</td>\n      <td>1</td>\n      <td>Nantucket Nectar</td>\n      <td>[Apple]</td>\n      <td>$3.39</td>\n    </tr>\n    <tr>\n      <th>3</th>\n      <td>1</td>\n      <td>1</td>\n      <td>Chips and Tomatillo-Green Chili Salsa</td>\n      <td>NaN</td>\n      <td>$2.39</td>\n    </tr>\n    <tr>\n      <th>4</th>\n      <td>2</td>\n      <td>2</td>\n      <td>Chicken Bowl</td>\n      <td>[Tomatillo-Red Chili Salsa (Hot), [Black Beans...</td>\n      <td>$16.98</td>\n    </tr>\n    <tr>\n      <th>...</th>\n      <td>...</td>\n      <td>...</td>\n      <td>...</td>\n      <td>...</td>\n      <td>...</td>\n    </tr>\n    <tr>\n      <th>4617</th>\n      <td>1833</td>\n      <td>1</td>\n      <td>Steak Burrito</td>\n      <td>[Fresh Tomato Salsa, [Rice, Black Beans, Sour ...</td>\n      <td>$11.75</td>\n    </tr>\n    <tr>\n      <th>4618</th>\n      <td>1833</td>\n      <td>1</td>\n      <td>Steak Burrito</td>\n      <td>[Fresh Tomato Salsa, [Rice, Sour Cream, Cheese...</td>\n      <td>$11.75</td>\n    </tr>\n    <tr>\n      <th>4619</th>\n      <td>1834</td>\n      <td>1</td>\n      <td>Chicken Salad Bowl</td>\n      <td>[Fresh Tomato Salsa, [Fajita Vegetables, Pinto...</td>\n      <td>$11.25</td>\n    </tr>\n    <tr>\n      <th>4620</th>\n      <td>1834</td>\n      <td>1</td>\n      <td>Chicken Salad Bowl</td>\n      <td>[Fresh Tomato Salsa, [Fajita Vegetables, Lettu...</td>\n      <td>$8.75</td>\n    </tr>\n    <tr>\n      <th>4621</th>\n      <td>1834</td>\n      <td>1</td>\n      <td>Chicken Salad Bowl</td>\n      <td>[Fresh Tomato Salsa, [Fajita Vegetables, Pinto...</td>\n      <td>$8.75</td>\n    </tr>\n  </tbody>\n</table>\n<p>4622 rows × 5 columns</p>\n</div>"
     },
     "execution_count": 43,
     "metadata": {},
     "output_type": "execute_result"
    }
   ],
   "source": [
    "url = \"https://raw.githubusercontent.com/justmarkham/DAT8/master/data/chipotle.tsv\"\n",
    "chipo = pd.read_csv(url, sep = '\\t')\n",
    "chipo"
   ]
  },
  {
   "cell_type": "markdown",
   "metadata": {
    "collapsed": false
   },
   "source": [
    "See the first 10 entries"
   ]
  },
  {
   "cell_type": "code",
   "execution_count": 44,
   "metadata": {
    "collapsed": false
   },
   "outputs": [
    {
     "data": {
      "text/plain": "   order_id  quantity                              item_name  \\\n0         1         1           Chips and Fresh Tomato Salsa   \n1         1         1                                   Izze   \n2         1         1                       Nantucket Nectar   \n3         1         1  Chips and Tomatillo-Green Chili Salsa   \n4         2         2                           Chicken Bowl   \n5         3         1                           Chicken Bowl   \n6         3         1                          Side of Chips   \n7         4         1                          Steak Burrito   \n8         4         1                       Steak Soft Tacos   \n9         5         1                          Steak Burrito   \n\n                                  choice_description item_price  \n0                                                NaN     $2.39   \n1                                       [Clementine]     $3.39   \n2                                            [Apple]     $3.39   \n3                                                NaN     $2.39   \n4  [Tomatillo-Red Chili Salsa (Hot), [Black Beans...    $16.98   \n5  [Fresh Tomato Salsa (Mild), [Rice, Cheese, Sou...    $10.98   \n6                                                NaN     $1.69   \n7  [Tomatillo Red Chili Salsa, [Fajita Vegetables...    $11.75   \n8  [Tomatillo Green Chili Salsa, [Pinto Beans, Ch...     $9.25   \n9  [Fresh Tomato Salsa, [Rice, Black Beans, Pinto...     $9.25   ",
      "text/html": "<div>\n<style scoped>\n    .dataframe tbody tr th:only-of-type {\n        vertical-align: middle;\n    }\n\n    .dataframe tbody tr th {\n        vertical-align: top;\n    }\n\n    .dataframe thead th {\n        text-align: right;\n    }\n</style>\n<table border=\"1\" class=\"dataframe\">\n  <thead>\n    <tr style=\"text-align: right;\">\n      <th></th>\n      <th>order_id</th>\n      <th>quantity</th>\n      <th>item_name</th>\n      <th>choice_description</th>\n      <th>item_price</th>\n    </tr>\n  </thead>\n  <tbody>\n    <tr>\n      <th>0</th>\n      <td>1</td>\n      <td>1</td>\n      <td>Chips and Fresh Tomato Salsa</td>\n      <td>NaN</td>\n      <td>$2.39</td>\n    </tr>\n    <tr>\n      <th>1</th>\n      <td>1</td>\n      <td>1</td>\n      <td>Izze</td>\n      <td>[Clementine]</td>\n      <td>$3.39</td>\n    </tr>\n    <tr>\n      <th>2</th>\n      <td>1</td>\n      <td>1</td>\n      <td>Nantucket Nectar</td>\n      <td>[Apple]</td>\n      <td>$3.39</td>\n    </tr>\n    <tr>\n      <th>3</th>\n      <td>1</td>\n      <td>1</td>\n      <td>Chips and Tomatillo-Green Chili Salsa</td>\n      <td>NaN</td>\n      <td>$2.39</td>\n    </tr>\n    <tr>\n      <th>4</th>\n      <td>2</td>\n      <td>2</td>\n      <td>Chicken Bowl</td>\n      <td>[Tomatillo-Red Chili Salsa (Hot), [Black Beans...</td>\n      <td>$16.98</td>\n    </tr>\n    <tr>\n      <th>5</th>\n      <td>3</td>\n      <td>1</td>\n      <td>Chicken Bowl</td>\n      <td>[Fresh Tomato Salsa (Mild), [Rice, Cheese, Sou...</td>\n      <td>$10.98</td>\n    </tr>\n    <tr>\n      <th>6</th>\n      <td>3</td>\n      <td>1</td>\n      <td>Side of Chips</td>\n      <td>NaN</td>\n      <td>$1.69</td>\n    </tr>\n    <tr>\n      <th>7</th>\n      <td>4</td>\n      <td>1</td>\n      <td>Steak Burrito</td>\n      <td>[Tomatillo Red Chili Salsa, [Fajita Vegetables...</td>\n      <td>$11.75</td>\n    </tr>\n    <tr>\n      <th>8</th>\n      <td>4</td>\n      <td>1</td>\n      <td>Steak Soft Tacos</td>\n      <td>[Tomatillo Green Chili Salsa, [Pinto Beans, Ch...</td>\n      <td>$9.25</td>\n    </tr>\n    <tr>\n      <th>9</th>\n      <td>5</td>\n      <td>1</td>\n      <td>Steak Burrito</td>\n      <td>[Fresh Tomato Salsa, [Rice, Black Beans, Pinto...</td>\n      <td>$9.25</td>\n    </tr>\n  </tbody>\n</table>\n</div>"
     },
     "execution_count": 44,
     "metadata": {},
     "output_type": "execute_result"
    }
   ],
   "source": [
    "chipo.head(10)"
   ]
  },
  {
   "cell_type": "markdown",
   "metadata": {
    "collapsed": false
   },
   "source": [
    "What is the number of observations in the dataset?"
   ]
  },
  {
   "cell_type": "code",
   "execution_count": 45,
   "metadata": {
    "collapsed": false
   },
   "outputs": [
    {
     "data": {
      "text/plain": "4622"
     },
     "execution_count": 45,
     "metadata": {},
     "output_type": "execute_result"
    }
   ],
   "source": [
    "chipo.shape[0]"
   ]
  },
  {
   "cell_type": "markdown",
   "metadata": {
    "collapsed": false
   },
   "source": [
    "What is the number of columns in the dataset?"
   ]
  },
  {
   "cell_type": "code",
   "execution_count": 46,
   "metadata": {
    "collapsed": false
   },
   "outputs": [
    {
     "data": {
      "text/plain": "5"
     },
     "execution_count": 46,
     "metadata": {},
     "output_type": "execute_result"
    }
   ],
   "source": [
    "chipo.shape[1]"
   ]
  },
  {
   "cell_type": "markdown",
   "metadata": {
    "collapsed": false
   },
   "source": [
    "Print the name of all the columns."
   ]
  },
  {
   "cell_type": "code",
   "execution_count": 47,
   "metadata": {
    "collapsed": false
   },
   "outputs": [
    {
     "data": {
      "text/plain": "Index(['order_id', 'quantity', 'item_name', 'choice_description',\n       'item_price'],\n      dtype='object')"
     },
     "execution_count": 47,
     "metadata": {},
     "output_type": "execute_result"
    }
   ],
   "source": [
    "chipo.columns"
   ]
  },
  {
   "cell_type": "markdown",
   "metadata": {
    "collapsed": false
   },
   "source": [
    "How is the dataset indexed?"
   ]
  },
  {
   "cell_type": "code",
   "execution_count": 48,
   "metadata": {
    "collapsed": false
   },
   "outputs": [
    {
     "data": {
      "text/plain": "RangeIndex(start=0, stop=4622, step=1)"
     },
     "execution_count": 48,
     "metadata": {},
     "output_type": "execute_result"
    }
   ],
   "source": [
    "chipo.index"
   ]
  },
  {
   "cell_type": "markdown",
   "metadata": {
    "collapsed": false
   },
   "source": [
    "Which was the most-ordered item?"
   ]
  },
  {
   "cell_type": "code",
   "execution_count": 49,
   "metadata": {
    "collapsed": false
   },
   "outputs": [
    {
     "data": {
      "text/plain": "0    Chicken Bowl\nName: item_name, dtype: object"
     },
     "execution_count": 49,
     "metadata": {},
     "output_type": "execute_result"
    }
   ],
   "source": [
    "chipo['item_name'].mode()"
   ]
  },
  {
   "cell_type": "markdown",
   "metadata": {
    "collapsed": false
   },
   "source": [
    "For the most-ordered item, how many items were ordered?"
   ]
  },
  {
   "cell_type": "code",
   "execution_count": 50,
   "metadata": {
    "collapsed": false
   },
   "outputs": [
    {
     "data": {
      "text/plain": "761"
     },
     "execution_count": 50,
     "metadata": {},
     "output_type": "execute_result"
    }
   ],
   "source": [
    "chipo[chipo['item_name'] == chipo['item_name'].mode()[0]].quantity.sum()"
   ]
  },
  {
   "cell_type": "markdown",
   "metadata": {
    "collapsed": false
   },
   "source": [
    "What was the most ordered item in the choice_description column?"
   ]
  },
  {
   "cell_type": "code",
   "execution_count": 51,
   "metadata": {
    "collapsed": false
   },
   "outputs": [
    {
     "data": {
      "text/plain": "0    [Diet Coke]\nName: choice_description, dtype: object"
     },
     "execution_count": 51,
     "metadata": {},
     "output_type": "execute_result"
    }
   ],
   "source": [
    "chipo['choice_description'].mode()\n"
   ]
  },
  {
   "cell_type": "markdown",
   "metadata": {
    "collapsed": false
   },
   "source": [
    "How many items were orderd in total?"
   ]
  },
  {
   "cell_type": "code",
   "execution_count": 52,
   "metadata": {
    "collapsed": false
   },
   "outputs": [
    {
     "data": {
      "text/plain": "4972"
     },
     "execution_count": 52,
     "metadata": {},
     "output_type": "execute_result"
    }
   ],
   "source": [
    "chipo['quantity'].sum()\n"
   ]
  },
  {
   "cell_type": "markdown",
   "metadata": {
    "collapsed": false
   },
   "source": [
    "• Turn the item price into a float\n",
    "• Check the item price type\n"
   ]
  },
  {
   "cell_type": "code",
   "execution_count": 53,
   "metadata": {
    "collapsed": false
   },
   "outputs": [
    {
     "data": {
      "text/plain": "dtype('float64')"
     },
     "execution_count": 53,
     "metadata": {},
     "output_type": "execute_result"
    }
   ],
   "source": [
    "# Turn the item price into a float\n",
    "chipo['item_price'] = chipo['item_price'].replace({\"\\$\": \"\"}, regex= True).astype(float)\n",
    "# Check the item price type\n",
    "chipo['item_price'].dtype"
   ]
  },
  {
   "cell_type": "markdown",
   "metadata": {
    "collapsed": false
   },
   "source": [
    "• Create a lambda function and change the type of item price\n",
    "• Check the item price type"
   ]
  },
  {
   "cell_type": "code",
   "execution_count": 54,
   "metadata": {
    "collapsed": false
   },
   "outputs": [
    {
     "data": {
      "text/plain": "dtype('float64')"
     },
     "execution_count": 54,
     "metadata": {},
     "output_type": "execute_result"
    }
   ],
   "source": [
    "# Create a lambda function and change the type of item price\n",
    "chipo['item_price'] = chipo['item_price'].apply(lambda x: float(x))\n",
    "# Check the item price type\n",
    "chipo['item_price'].dtype"
   ]
  },
  {
   "cell_type": "markdown",
   "metadata": {
    "collapsed": false
   },
   "source": [
    "How much was the revenue for the period in the dataset?"
   ]
  },
  {
   "cell_type": "code",
   "execution_count": 55,
   "metadata": {
    "collapsed": false
   },
   "outputs": [
    {
     "data": {
      "text/plain": "39237.02"
     },
     "execution_count": 55,
     "metadata": {},
     "output_type": "execute_result"
    }
   ],
   "source": [
    "(chipo['quantity'] * chipo['item_price']).sum()"
   ]
  },
  {
   "cell_type": "markdown",
   "metadata": {
    "collapsed": false
   },
   "source": []
  },
  {
   "cell_type": "markdown",
   "metadata": {
    "collapsed": false
   },
   "source": [
    "How many orders were made in the period?"
   ]
  },
  {
   "cell_type": "code",
   "execution_count": 56,
   "metadata": {
    "collapsed": false
   },
   "outputs": [
    {
     "data": {
      "text/plain": "1834"
     },
     "execution_count": 56,
     "metadata": {},
     "output_type": "execute_result"
    }
   ],
   "source": [
    "chipo['order_id'].value_counts().count()\n"
   ]
  },
  {
   "cell_type": "markdown",
   "metadata": {
    "collapsed": false
   },
   "source": [
    "What is the average revenue amount per order?"
   ]
  },
  {
   "cell_type": "code",
   "execution_count": 57,
   "metadata": {
    "collapsed": false
   },
   "outputs": [
    {
     "data": {
      "text/plain": "21.39423118865867"
     },
     "execution_count": 57,
     "metadata": {},
     "output_type": "execute_result"
    }
   ],
   "source": [
    "chipo['revenue'] = chipo['quantity'] * chipo['item_price']\n",
    "chipo.groupby('order_id').sum(numeric_only=True).mean()['revenue']"
   ]
  },
  {
   "cell_type": "markdown",
   "metadata": {
    "collapsed": false
   },
   "source": [
    "How many different items are sold?"
   ]
  },
  {
   "cell_type": "code",
   "execution_count": 58,
   "metadata": {
    "collapsed": false
   },
   "outputs": [
    {
     "data": {
      "text/plain": "50"
     },
     "execution_count": 58,
     "metadata": {},
     "output_type": "execute_result"
    }
   ],
   "source": [
    "chipo['item_name'].nunique()"
   ]
  },
  {
   "cell_type": "markdown",
   "metadata": {
    "collapsed": false
   },
   "source": [
    "# Question 6\n",
    "\n",
    "Create a line plot showing the number of marriages and divorces per capita in the U.S. between 1867 and 2014. Label both lines and show the legend."
   ]
  },
  {
   "cell_type": "code",
   "execution_count": 59,
   "metadata": {
    "collapsed": false
   },
   "outputs": [],
   "source": [
    "import pandas as pd\n",
    "import matplotlib.pyplot as plt"
   ]
  },
  {
   "cell_type": "code",
   "execution_count": 60,
   "metadata": {
    "collapsed": false
   },
   "outputs": [],
   "source": [
    "marriages_data = pd.read_csv('data/us-marriages-divorces-1867-2014.csv')"
   ]
  },
  {
   "cell_type": "code",
   "execution_count": 61,
   "metadata": {
    "collapsed": false
   },
   "outputs": [
    {
     "data": {
      "text/plain": "<Figure size 640x480 with 1 Axes>",
      "image/png": "[encoded data removed]"
     },
     "metadata": {},
     "output_type": "display_data"
    }
   ],
   "source": [
    "marriages_data.plot(x='Year', y=['Marriages', 'Divorces'])\n",
    "plt.show()"
   ]
  },
  {
   "cell_type": "markdown",
   "source": [
    "# Question 7"
   ],
   "metadata": {
    "collapsed": false
   }
  },
  {
   "cell_type": "code",
   "execution_count": 62,
   "outputs": [],
   "source": [
    "marriages_data = pd.read_csv('data/us-marriages-divorces-1867-2014.csv')\n"
   ],
   "metadata": {
    "collapsed": false
   }
  },
  {
   "cell_type": "code",
   "execution_count": 63,
   "outputs": [
    {
     "data": {
      "text/plain": "<Figure size 640x480 with 1 Axes>",
      "image/png": "[encoded data removed]"
     },
     "metadata": {},
     "output_type": "display_data"
    }
   ],
   "source": [
    "df = marriages_data[marriages_data['Year'].isin([1900, 1950, 2000])]\n",
    "df.plot.bar(x='Year', y=['Marriages', 'Divorces'], rot=0)\n",
    "plt.show()"
   ],
   "metadata": {
    "collapsed": false
   }
  },
  {
   "cell_type": "markdown",
   "source": [
    "# Question 8"
   ],
   "metadata": {
    "collapsed": false
   }
  },
  {
   "cell_type": "code",
   "execution_count": 64,
   "outputs": [],
   "source": [
    "actor_kill_counts = pd.read_csv('data/actor_kill_counts.csv')\n"
   ],
   "metadata": {
    "collapsed": false
   }
  },
  {
   "cell_type": "code",
   "execution_count": 65,
   "outputs": [
    {
     "data": {
      "text/plain": "<Figure size 640x480 with 1 Axes>",
      "image/png": "[encoded data removed]"
     },
     "metadata": {},
     "output_type": "display_data"
    }
   ],
   "source": [
    "actor_kill_counts.sort_values('Count', inplace=True)\n",
    "plt.barh(range(len(actor_kill_counts)), actor_kill_counts['Count'], tick_label=actor_kill_counts['Actor'])\n",
    "plt.title('Deadliest Actors')\n",
    "plt.xlabel('Number of Kills')\n",
    "plt.ylabel('Actor')\n",
    "plt.show()"
   ],
   "metadata": {
    "collapsed": false
   }
  },
  {
   "cell_type": "markdown",
   "source": [
    "# Question 9"
   ],
   "metadata": {
    "collapsed": false
   }
  },
  {
   "cell_type": "code",
   "execution_count": 66,
   "outputs": [],
   "source": [
    "roman_emperor_reigns = pd.read_csv('data/roman-emperor-reigns.csv')\n"
   ],
   "metadata": {
    "collapsed": false
   }
  },
  {
   "cell_type": "code",
   "execution_count": 67,
   "outputs": [
    {
     "data": {
      "text/plain": "<Figure size 640x480 with 1 Axes>",
      "image/png": "[encoded data removed]"
     },
     "metadata": {},
     "output_type": "display_data"
    }
   ],
   "source": [
    "roman_emperor_reigns_plot = roman_emperor_reigns['Cause_of_Death'].value_counts().plot(kind='pie', autopct='%1.1f%%')\n",
    "roman_emperor_reigns_plot.axis('equal')\n",
    "roman_emperor_reigns_plot.set_xlabel('Death Cause')\n",
    "roman_emperor_reigns_plot.set_ylabel('')\n",
    "\n",
    "plt.show()"
   ],
   "metadata": {
    "collapsed": false
   }
  },
  {
   "cell_type": "markdown",
   "source": [
    "# Question 10"
   ],
   "metadata": {
    "collapsed": false
   }
  },
  {
   "cell_type": "code",
   "execution_count": 68,
   "outputs": [],
   "source": [
    "arcade_revenue_vs_cs_doctorates = pd.read_csv('data/arcade-revenue-vs-cs-doctorates.csv')\n"
   ],
   "metadata": {
    "collapsed": false
   }
  },
  {
   "cell_type": "code",
   "execution_count": 69,
   "outputs": [
    {
     "data": {
      "text/plain": "<AxesSubplot: xlabel='Computer Science Doctorates Awarded (US)', ylabel='Total Arcade Revenue (billions)'>"
     },
     "execution_count": 69,
     "metadata": {},
     "output_type": "execute_result"
    },
    {
     "data": {
      "text/plain": "<Figure size 640x480 with 2 Axes>",
      "image/png": "[encoded data removed]"
     },
     "metadata": {},
     "output_type": "display_data"
    }
   ],
   "source": [
    "arcade_revenue_vs_cs_doctorates.plot(kind='scatter', x='Computer Science Doctorates Awarded (US)', y='Total Arcade Revenue (billions)', c='Year', colormap='viridis')\n"
   ],
   "metadata": {
    "collapsed": false
   }
  },
  {
   "cell_type": "markdown",
   "source": [],
   "metadata": {
    "collapsed": false
   }
  }
 ],
 "metadata": {
  "kernelspec": {
   "display_name": "Python 3",
   "language": "python",
   "name": "python3"
  },
  "language_info": {
   "codemirror_mode": {
    "name": "ipython",
    "version": 2
   },
   "file_extension": ".py",
   "mimetype": "text/x-python",
   "name": "python",
   "nbconvert_exporter": "python",
   "pygments_lexer": "ipython2",
   "version": "2.7.6"
  }
 },
 "nbformat": 4,
 "nbformat_minor": 0
}
